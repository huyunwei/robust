{
 "cells": [
  {
   "cell_type": "code",
   "execution_count": 8,
   "metadata": {},
   "outputs": [
    {
     "name": "stdout",
     "output_type": "stream",
     "text": [
      "BF10:BF12, BG11:BG12, BH12\n"
     ]
    }
   ],
   "source": [
    "def column_letters_to_index(column_letters): \n",
    "    \"\"\"\n",
    "    Convert Excel column letters (e.g., \"A\", \"AB\") to a numerical index.\n",
    "    \n",
    "    Args:\n",
    "        column_letters (str): The column letters to convert.\n",
    "    \n",
    "    Returns:\n",
    "        int: The numerical index corresponding to the column letters.\n",
    "    \n",
    "    Example:\n",
    "        \"AA\" -> 27\n",
    "    \"\"\"\n",
    "    index = 0\n",
    "    for char in column_letters:\n",
    "        index = index * 26 + (ord(char) - ord('A') + 1)\n",
    "    return index\n",
    "\n",
    "def column_index_to_letters(index):\n",
    "    \"\"\"\n",
    "    Convert a numerical column index to Excel column letters.\n",
    "    \n",
    "    Args:\n",
    "        index (int): The numerical index to convert (e.g., 27).\n",
    "    \n",
    "    Returns:\n",
    "        str: The corresponding Excel column letters (e.g., \"AA\").\n",
    "    \n",
    "    Example:\n",
    "        27 -> \"AA\"\n",
    "    \"\"\"\n",
    "    column_letters = \"\"\n",
    "    while index > 0:\n",
    "        index, remainder = divmod(index - 1, 26)\n",
    "        column_letters = chr(65 + remainder) + column_letters\n",
    "    return column_letters\n",
    "\n",
    "def lower_triangle_range(start_cell, num_rows):\n",
    "    \"\"\"\n",
    "    Generate the range for a lower triangle in an Excel sheet from a given start cell and number of rows.\n",
    "    \n",
    "    Args:\n",
    "        start_cell (str): The starting cell of the range (e.g., \"F10\").\n",
    "        num_rows (int): The number of rows in the lower triangle.\n",
    "    \n",
    "    Returns:\n",
    "        str: A string representing the Excel ranges for the lower triangle, adjusting output format based on range length.\n",
    "    \n",
    "    Example:\n",
    "        \"F10\", 3 -> 'F10:F12, G11:G12, H12'\n",
    "    \"\"\"\n",
    "    # Extract the column letter and row number from the start cell\n",
    "    column = ''.join([char for char in start_cell if char.isalpha()])\n",
    "    start_row = int(''.join([char for char in start_cell if char.isdigit()]))\n",
    "    \n",
    "    # Use the function to convert column letters to numerical index\n",
    "    col_index = column_letters_to_index(column)\n",
    "\n",
    "    ranges = []\n",
    "    # Create ranges for each row in the lower triangle\n",
    "    for i in range(num_rows):\n",
    "        current_column_index = col_index + i\n",
    "        current_row = start_row + i\n",
    "        end_row = start_row + num_rows - 1\n",
    "        \n",
    "        # Convert numerical index back to column letters\n",
    "        current_column_letters = column_index_to_letters(current_column_index)\n",
    "        \n",
    "        # Append the current column's range to the list\n",
    "        if current_row < end_row:\n",
    "            ranges.append(f\"{current_column_letters}{current_row}:{current_column_letters}{end_row}\")\n",
    "        elif current_row == end_row:  # Only one cell in the range\n",
    "            ranges.append(f\"{current_column_letters}{current_row}\")\n",
    "\n",
    "    # Join all ranges with a comma\n",
    "    return ', '.join(ranges)\n",
    "\n",
    "# Example usage\n",
    "start_cell = \"BF10\"\n",
    "num_rows = 3\n",
    "print(lower_triangle_range(start_cell, num_rows))  # Expected output: 'F10:F12, G11:G12, H12'\n"
   ]
  },
  {
   "cell_type": "code",
   "execution_count": 12,
   "metadata": {},
   "outputs": [
    {
     "data": {
      "text/plain": [
       "[6, 7, 8, 9, 10]"
      ]
     },
     "execution_count": 12,
     "metadata": {},
     "output_type": "execute_result"
    }
   ],
   "source": [
    "#write a script to creat a list 1, 2, 3, ..., N and then remove the elements in list L from the list\n",
    "def create_list(N, L):\n",
    "    \"\"\"\n",
    "    Create a list from 1 to N, excluding the elements in list L.\n",
    "    Args:\n",
    "        N (int): The upper limit of the list.\n",
    "        L (list): The list of elements to exclude.\n",
    "    Returns:\n",
    "        list: A list of integers from 1 to N, excluding the elements in L.\n",
    "    \"\"\"\n",
    "    return [i for i in range(1, N + 1) if i not in L]\n",
    "\n",
    "create_list(10, [1, 2, 3, 4, 5])"
   ]
  },
  {
   "cell_type": "code",
   "execution_count": 11,
   "metadata": {},
   "outputs": [],
   "source": [
    "# write a script to simulate the Monty Hall problem\n",
    "\n",
    "import random\n",
    "\n",
    "def monty_hall_problem(N_DOORS = 3, num_simulations = 10000):\n",
    "    \"\"\"\n",
    "    Simulate the Monty Hall problem and calculate the probability of winning if the contestant switches their choice.\n",
    "    Args:\n",
    "        N_DOORS (int): The number of doors.\n",
    "        num_simulations (int): The number of simulations to run.\n",
    "    Returns:\n",
    "        float: The probability of winning if the contestant switches their choice.\n",
    "    \"\"\"\n",
    "    wins_switch = 0\n",
    "    wins_no_switch = 0\n",
    "    for _ in range(num_simulations):  \n",
    "        # assign the car to a door randomly from 1 to N_DOORS\n",
    "        car_location = random.randint(1, N_DOORS)\n",
    "        # randomly choose a door from 1 to N_DOORS\n",
    "        contestant_choice = random.randint(1, N_DOORS)\n",
    "        # the host knows where the car is, so he will always choose a door that is not the contestant's choice and not the car's location\n",
    "        host_choice = random.choice([door for door in range(1, N_DOORS + 1) if door != contestant_choice and door != car_location])\n",
    "        # the contestant can either switch their choice or not\n",
    "        switch_choice = random.choice([door for door in range(1, N_DOORS + 1) if door != contestant_choice and door != host_choice])\n",
    "        # if the contestant's original choice is the car's location, the no_switch choice wins\n",
    "        if contestant_choice == car_location:\n",
    "            wins_no_switch += 1\n",
    "        elif switch_choice == car_location:\n",
    "            wins_switch += 1\n",
    "    # calculate the probability of winning if the contestant switches their choice\n",
    "    return (wins_switch / num_simulations, wins_no_switch / num_simulations)\n",
    "\n"
   ]
  },
  {
   "cell_type": "code",
   "execution_count": 14,
   "metadata": {},
   "outputs": [
    {
     "name": "stdout",
     "output_type": "stream",
     "text": [
      "Number of doors: 3\n",
      "Number of simulations: 1000000\n",
      "The probability of winning if the contestant switches their choice is 0.6669\n",
      "The probability of winning if the contestant does not switch their choice is 0.3331\n"
     ]
    }
   ],
   "source": [
    "# Example usage\n",
    "num_simulations = 1_000_000\n",
    "N_DOORS = 3\n",
    "probability_of_winning = monty_hall_problem(N_DOORS, num_simulations)\n",
    "print(f\"Number of doors: {N_DOORS}\")\n",
    "print(f\"Number of simulations: {num_simulations}\")\n",
    "print(f\"The probability of winning if the contestant switches their choice is {probability_of_winning[0]:.4f}\")\n",
    "print(f\"The probability of winning if the contestant does not switch their choice is {probability_of_winning[1]:.4f}\")"
   ]
  }
 ],
 "metadata": {
  "kernelspec": {
   "display_name": "base",
   "language": "python",
   "name": "python3"
  },
  "language_info": {
   "codemirror_mode": {
    "name": "ipython",
    "version": 3
   },
   "file_extension": ".py",
   "mimetype": "text/x-python",
   "name": "python",
   "nbconvert_exporter": "python",
   "pygments_lexer": "ipython3",
   "version": "3.11.11"
  }
 },
 "nbformat": 4,
 "nbformat_minor": 2
}

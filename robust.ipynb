{
  "cells": [
    {
      "cell_type": "markdown",
      "metadata": {
        "colab_type": "text",
        "id": "view-in-github"
      },
      "source": [
        "<a href=\"https://colab.research.google.com/github/huyunwei/robust/blob/main/robust.ipynb\" target=\"_parent\"><img src=\"https://colab.research.google.com/assets/colab-badge.svg\" alt=\"Open In Colab\"/></a>"
      ]
    },
    {
      "cell_type": "markdown",
      "metadata": {
        "id": "NBAKuJZ07rbQ"
      },
      "source": [
        "# Robust Design\n",
        "## Tolerance Analysis\n",
        "### Monte Carlo Simulation   \n",
        "\n",
        "Monte Carlo simulation is a useful method for performing tolerance stack-up analysis. This method relies on statistical sampling to obtain a numerical result.  \n",
        "\n",
        "Here's a simple example of using Monte Carlo simulation to perform tolerance stack-up analysis. Suppose we have a system with three components, each with its own nominal dimension and tolerance.  \n",
        "\n",
        "We'll create a Python script to perform 10,000 simulations and understand the distribution of the total stack-up.  \n",
        "\n",
        "This script defines the nominal dimensions and tolerances of the components and then simulates the total stack-up using random numbers from a normal distribution with means equal to the nominal dimensions and standard deviations equal to the tolerances.\n",
        "\n",
        "The resulting histogram shows the distribution of the total stack-up over the simulations, which helps in understanding the variability in the system due to the tolerances of the individual components."
      ]
    },
    {
      "cell_type": "code",
      "execution_count": 52,
      "metadata": {
        "colab": {
          "base_uri": "https://localhost:8080/",
          "height": 472
        },
        "id": "aIjgYfuW7n8g",
        "outputId": "3a4ee10e-86f8-454c-9a4a-bff95d9ea792"
      },
      "outputs": [
        {
          "data": {
            "text/html": [
              "<div>\n",
              "<style scoped>\n",
              "    .dataframe tbody tr th:only-of-type {\n",
              "        vertical-align: middle;\n",
              "    }\n",
              "\n",
              "    .dataframe tbody tr th {\n",
              "        vertical-align: top;\n",
              "    }\n",
              "\n",
              "    .dataframe thead th {\n",
              "        text-align: right;\n",
              "    }\n",
              "</style>\n",
              "<table border=\"1\" class=\"dataframe\">\n",
              "  <thead>\n",
              "    <tr style=\"text-align: right;\">\n",
              "      <th></th>\n",
              "      <th>name</th>\n",
              "      <th>nominal</th>\n",
              "      <th>upper_tol</th>\n",
              "      <th>lower_tol</th>\n",
              "      <th>sigma_level</th>\n",
              "      <th>max</th>\n",
              "      <th>min</th>\n",
              "      <th>mean</th>\n",
              "      <th>std</th>\n",
              "    </tr>\n",
              "  </thead>\n",
              "  <tbody>\n",
              "    <tr>\n",
              "      <th>0</th>\n",
              "      <td>B1</td>\n",
              "      <td>50</td>\n",
              "      <td>0.5</td>\n",
              "      <td>-0.5</td>\n",
              "      <td>3</td>\n",
              "      <td>50.5</td>\n",
              "      <td>49.5</td>\n",
              "      <td>50</td>\n",
              "      <td>0.166667</td>\n",
              "    </tr>\n",
              "    <tr>\n",
              "      <th>1</th>\n",
              "      <td>B2</td>\n",
              "      <td>20</td>\n",
              "      <td>1</td>\n",
              "      <td>-0.1</td>\n",
              "      <td>3</td>\n",
              "      <td>21</td>\n",
              "      <td>19.9</td>\n",
              "      <td>20.45</td>\n",
              "      <td>0.183333</td>\n",
              "    </tr>\n",
              "    <tr>\n",
              "      <th>2</th>\n",
              "      <td>B3</td>\n",
              "      <td>30</td>\n",
              "      <td>0.2</td>\n",
              "      <td>-0.2</td>\n",
              "      <td>3</td>\n",
              "      <td>30.2</td>\n",
              "      <td>29.8</td>\n",
              "      <td>30</td>\n",
              "      <td>0.0666667</td>\n",
              "    </tr>\n",
              "    <tr>\n",
              "      <th>3</th>\n",
              "      <td>E</td>\n",
              "      <td>100.1</td>\n",
              "      <td>0.3</td>\n",
              "      <td>-0.3</td>\n",
              "      <td>3</td>\n",
              "      <td>100.4</td>\n",
              "      <td>99.8</td>\n",
              "      <td>100.1</td>\n",
              "      <td>0.1</td>\n",
              "    </tr>\n",
              "  </tbody>\n",
              "</table>\n",
              "</div>"
            ],
            "text/plain": [
              "  name  nominal  upper_tol  lower_tol  sigma_level   max  min  mean       std\n",
              "0   B1       50        0.5       -0.5            3  50.5 49.5    50  0.166667\n",
              "1   B2       20          1       -0.1            3    21 19.9 20.45  0.183333\n",
              "2   B3       30        0.2       -0.2            3  30.2 29.8    30 0.0666667\n",
              "3    E    100.1        0.3       -0.3            3 100.4 99.8 100.1       0.1"
            ]
          },
          "execution_count": 52,
          "metadata": {},
          "output_type": "execute_result"
        }
      ],
      "source": [
        "import random\n",
        "import matplotlib.pyplot as plt\n",
        "\n",
        "import numpy as np\n",
        "import pandas as pd\n",
        "from io import StringIO\n",
        "\n",
        "from Tol_MC import *\n",
        "\n",
        "df_csv = \"\"\"name,nominal,upper_tol,lower_tol,sigma_level\n",
        "B1, 50, 0.5, -0.5, 3\n",
        "B2, 20, 01, -0.1, 3\n",
        "B3, 30, 0.2, -0.2, 3\n",
        "E, 100.1, 0.3, -0.3, 3\n",
        "\"\"\"\n",
        "df_X = read_and_prepare_df(StringIO(df_csv))\n",
        "df_X\n"
      ]
    },
    {
      "cell_type": "code",
      "execution_count": 53,
      "metadata": {
        "id": "qfs5QYq_X6qx"
      },
      "outputs": [
        {
          "name": "stdout",
          "output_type": "stream",
          "text": [
            "            B1      B2        B3        E       Gap\n",
            "count    1e+06   1e+06     1e+06    1e+06     1e+06\n",
            "mean        50 20.4503        30    100.1 -0.350366\n",
            "std   0.166598 0.18331 0.0666199 0.100026  0.275136\n",
            "min    49.2595 19.5556   29.6616  99.6304  -1.66105\n",
            "1%     49.6127 20.0238    29.845  99.8677 -0.990185\n",
            "5%      49.726 20.1491   29.8903  99.9355 -0.803098\n",
            "25%    49.8876 20.3265   29.9551  100.032  -0.53614\n",
            "50%         50 20.4504   30.0001    100.1  -0.35009\n",
            "75%    50.1124  20.574   30.0449  100.167  -0.16472\n",
            "95%    50.2739 20.7514   30.1095  100.264  0.101942\n",
            "99%     50.388 20.8774   30.1553  100.332  0.288968\n",
            "max     50.817 21.3244    30.313  100.582  0.865127\n"
          ]
        }
      ],
      "source": [
        "transf_formula = \"Gap = E - B1 - B2 - B3\"\n",
        "N_SIM = int(1e6)\n",
        "\n",
        "if df_X is not None:\n",
        "    results = monte_carlo_tolerancing(df_X, transf_formula , N_SIM)\n",
        "    print(results.describe(percentiles=[0.01, 0.05, 0.25, 0.5, 0.75, 0.95, 0.99]))\n",
        "else:\n",
        "    print(\"Error: Data frame could not be prepared.\")"
      ]
    },
    {
      "cell_type": "code",
      "execution_count": 54,
      "metadata": {
        "colab": {
          "base_uri": "https://localhost:8080/",
          "height": 472
        },
        "id": "oOhgROsXbjC1",
        "outputId": "67b8295f-2140-46dc-d092-406ea7ba516a"
      },
      "outputs": [
        {
          "data": {
            "image/png": "[encoded data removed]",
            "text/plain": [
              "<Figure size 640x480 with 1 Axes>"
            ]
          },
          "metadata": {},
          "output_type": "display_data"
        }
      ],
      "source": [
        "# Plot histogram\n",
        "plt.hist(results.Gap, bins=100, density=True)\n",
        "plt.xlabel('Total Stack-up')\n",
        "plt.ylabel('Frequency')\n",
        "plt.title('Monte Carlo Simulation of Tolerance Stack-up')\n",
        "plt.show()"
      ]
    },
    {
      "cell_type": "code",
      "execution_count": 55,
      "metadata": {},
      "outputs": [
        {
          "data": {
            "text/html": [
              "<div>\n",
              "<style scoped>\n",
              "    .dataframe tbody tr th:only-of-type {\n",
              "        vertical-align: middle;\n",
              "    }\n",
              "\n",
              "    .dataframe tbody tr th {\n",
              "        vertical-align: top;\n",
              "    }\n",
              "\n",
              "    .dataframe thead th {\n",
              "        text-align: right;\n",
              "    }\n",
              "</style>\n",
              "<table border=\"1\" class=\"dataframe\">\n",
              "  <thead>\n",
              "    <tr style=\"text-align: right;\">\n",
              "      <th></th>\n",
              "      <th>name</th>\n",
              "      <th>nominal</th>\n",
              "      <th>upper_tol</th>\n",
              "      <th>lower_tol</th>\n",
              "      <th>sigma_level</th>\n",
              "      <th>max</th>\n",
              "      <th>min</th>\n",
              "      <th>mean</th>\n",
              "      <th>std</th>\n",
              "    </tr>\n",
              "  </thead>\n",
              "  <tbody>\n",
              "    <tr>\n",
              "      <th>0</th>\n",
              "      <td>R1</td>\n",
              "      <td>1</td>\n",
              "      <td>0.02</td>\n",
              "      <td>-0.02</td>\n",
              "      <td>4</td>\n",
              "      <td>1.02</td>\n",
              "      <td>0.98</td>\n",
              "      <td>1</td>\n",
              "      <td>0.005</td>\n",
              "    </tr>\n",
              "    <tr>\n",
              "      <th>1</th>\n",
              "      <td>R2</td>\n",
              "      <td>1</td>\n",
              "      <td>0.02</td>\n",
              "      <td>-0.02</td>\n",
              "      <td>4</td>\n",
              "      <td>1.02</td>\n",
              "      <td>0.98</td>\n",
              "      <td>1</td>\n",
              "      <td>0.005</td>\n",
              "    </tr>\n",
              "  </tbody>\n",
              "</table>\n",
              "</div>"
            ],
            "text/plain": [
              "  name  nominal  upper_tol  lower_tol  sigma_level  max  min  mean   std\n",
              "0   R1        1       0.02      -0.02            4 1.02 0.98     1 0.005\n",
              "1   R2        1       0.02      -0.02            4 1.02 0.98     1 0.005"
            ]
          },
          "execution_count": 55,
          "metadata": {},
          "output_type": "execute_result"
        }
      ],
      "source": [
        "path_to_csv = \"resistors.csv\"\n",
        "transf_formula = \"G = R1 / (R1 + R2)\"\n",
        "N_SIM = int(1e6)\n",
        "df_X = read_and_prepare_df(path_to_csv)\n",
        "df_X\n"
      ]
    },
    {
      "cell_type": "code",
      "execution_count": 56,
      "metadata": {},
      "outputs": [
        {
          "name": "stdout",
          "output_type": "stream",
          "text": [
            "             R1         R2          G\n",
            "count     1e+06      1e+06      1e+06\n",
            "mean          1          1        0.5\n",
            "std   0.0050002 0.00499768 0.00176844\n",
            "min    0.976052   0.975497   0.491747\n",
            "1%     0.988359   0.988345   0.495888\n",
            "5%     0.991771   0.991779   0.497092\n",
            "25%    0.996628   0.996637   0.498807\n",
            "50%     1.00001    1.00001   0.500002\n",
            "75%     1.00338    1.00337   0.501191\n",
            "95%     1.00823    1.00821   0.502913\n",
            "99%     1.01158    1.01163   0.504109\n",
            "max     1.02435    1.02389   0.507738\n"
          ]
        }
      ],
      "source": [
        "if df_X is not None:\n",
        "    results = monte_carlo_tolerancing(df_X, transf_formula, N_SIM)\n",
        "    print(results.describe(percentiles=[0.01, 0.05, 0.25, 0.5, 0.75, 0.95, 0.99]))\n",
        "else:\n",
        "    print(\"Error: Data frame could not be prepared.\")"
      ]
    },
    {
      "cell_type": "code",
      "execution_count": 57,
      "metadata": {},
      "outputs": [
        {
          "data": {
            "image/png": "[encoded data removed]",
            "text/plain": [
              "<Figure size 640x480 with 1 Axes>"
            ]
          },
          "metadata": {},
          "output_type": "display_data"
        }
      ],
      "source": [
        "# Plot histogram\n",
        "plt.hist(results.G, bins=100, density=True)\n",
        "plt.xlabel('Total Stack-up')\n",
        "plt.ylabel('Frequency')\n",
        "plt.title('Monte Carlo Simulation of Tolerance Stack-up')\n",
        "plt.show()"
      ]
    },
    {
      "cell_type": "code",
      "execution_count": 59,
      "metadata": {},
      "outputs": [
        {
          "name": "stdout",
          "output_type": "stream",
          "text": [
            "The RSS calcuated standard divation of G is 0.001767767\n",
            "The simulated Standard Deviation of G is 0.00176844:\n"
          ]
        }
      ],
      "source": [
        "print(f'The RSS calcuated standard divation of G is {0.005*np.sqrt(2)/4:.8g}')\n",
        "print(f'The simulated Standard Deviation of G is {results.G.std():.8f}') "
      ]
    },
    {
      "cell_type": "markdown",
      "metadata": {},
      "source": [
        "The stress-strength model is a fundamental concept in reliability engineering and design that assesses the reliability or probability of failure of a system, component, or structure by comparing the applied stress to the strength of the material or component. The basic idea is that for a component to function reliably, its strength (the capacity to withstand loads or forces) must exceed the stress (the load or force applied) it experiences during operation.\n",
        "\n",
        "### Stress (\\(S\\)):\n",
        "- Stress represents the demands, loads, pressures, or forces applied to a component. It can vary due to operational conditions, environmental factors, or the way the component is used.\n",
        "\n",
        "### Strength (\\(R\\)):\n",
        "- Strength is the ability of the component to withstand stress without failure. It reflects the material properties, design, manufacturing quality, and sometimes the degradation over time.\n",
        "\n",
        "### Probability of Failure (\\(P_f\\)):\n",
        "The probability of failure occurs when the applied stress exceeds the component's strength (\\(P(S > R)\\)). In other words, it is the probability that the strength of a component is less than or equal to the applied stress. \n",
        "\n",
        "If both stress and strength are considered as random variables with known probability distributions, the probability of failure can be calculated by integrating the joint probability density function (PDF) of stress and strength over the region where stress exceeds strength. However, when stress (\\(S\\)) and strength (\\(R\\)) are independent and normally distributed, the probability of failure can be simplified and calculated using:\n",
        "\n",
        "$$P_f = P(S > R) = \\Phi\\left(\\frac{\\mu_S - \\mu_R}{\\sqrt{\\sigma_S^2 + \\sigma_R^2}}\\right)$$\n",
        "\n",
        "where:\n",
        "- $\\mu_S$ and $\\mu_R$ are the mean values of stress and strength, respectively,\n",
        "- $\\sigma_S^2$ and $\\sigma_R^2$ are the variances of stress and strength, respectively,\n",
        "- $\\Phi$ is the cumulative distribution function (CDF) of the standard normal distribution.\n",
        "\n",
        "### Application:\n",
        "The stress-strength model is widely used in the design phase to ensure the reliability of components and systems. By understanding and quantifying the stress and strength distributions, designers and engineers can make informed decisions to reduce the probability of failure, such as by selecting appropriate materials, design adjustments, or safety factors.\n",
        "\n",
        "### Importance:\n",
        "This model emphasizes the importance of variability and uncertainty in both applied stresses and material strengths. It provides a quantitative method to assess the impact of this variability on system reliability, helping in the identification of potential failure points and the development of more robust designs.\n"
      ]
    },
    {
      "cell_type": "code",
      "execution_count": 41,
      "metadata": {},
      "outputs": [],
      "source": [
        "import numpy as np\n",
        "from scipy.stats import norm\n",
        "import matplotlib.pyplot as plt\n",
        "\n",
        "\n",
        "class StressStrengthModel:\n",
        "    def __init__(self, mean_strength, std_strength, mean_stress, std_stress):\n",
        "        \"\"\"\n",
        "        Initialize the stress-strength model with means and standard deviations\n",
        "        for strength and stress distributions.\n",
        "\n",
        "        Args:\n",
        "        - mean_strength (float): Mean of the strength distribution.\n",
        "        - std_strength (float): Standard deviation of the strength distribution.\n",
        "        - mean_stress (float): Mean of the stress distribution.\n",
        "        - std_stress (float): Standard deviation of the stress distribution.\n",
        "        \"\"\"\n",
        "        self.mean_strength = mean_strength\n",
        "        self.std_strength = std_strength\n",
        "        self.mean_stress = mean_stress\n",
        "        self.std_stress = std_stress\n",
        "\n",
        "\n",
        "    \n",
        "    def probability_of_failure(self, method='equation'):\n",
        "        \"\"\"\n",
        "    Calculates the probability of failure given the means and standard deviations\n",
        "    of stress and strength distributions.\n",
        "\n",
        "    Args:\n",
        "    - mean_stress (float): Mean of the stress distribution.\n",
        "    - std_stress (float): Standard deviation of the stress distribution.\n",
        "    - mean_strength (float): Mean of the strength distribution.\n",
        "    - std_strength (float): Standard deviation of the strength distribution.\n",
        "    - method (str): Calculation method ('equation' or 'monte_carlo').\n",
        "\n",
        "    Returns:\n",
        "    - float: Probability of failure.\n",
        "            \"\"\"\n",
        "        if method == 'equation':\n",
        "            # Calculate the Z score\n",
        "            Z = (self.mean_strength - self.mean_stress) / np.sqrt(self.std_stress**2 + self.std_strength**2)\n",
        "            # Calculate the probability of failure using the standard normal CDF\n",
        "            probability_failure = norm.cdf(-Z)\n",
        "            return probability_failure\n",
        "    \n",
        "        elif method == 'monte_carlo':\n",
        "            # Number of simulations\n",
        "            n_simulations = 1000000\n",
        "            # Generate random samples from normal distributions for stress and strength\n",
        "            stress_samples = np.random.normal(self.mean_stress, self.std_stress, n_simulations)\n",
        "            strength_samples = np.random.normal(self.mean_strength, self.std_strength, n_simulations)\n",
        "            # Calculate failure instances\n",
        "            failures = stress_samples > strength_samples\n",
        "            # Calculate probability of failure\n",
        "            probability_failure = np.mean(failures)\n",
        "            return probability_failure\n",
        "    \n",
        "        else:\n",
        "            raise ValueError(\"Method not recognized. Use 'equation' or 'monte_carlo'.\")\n",
        "\n",
        "    def plot_distributions(self):\n",
        "        \"\"\"\n",
        "        Plot the stress and strength distributions to visualize the overlap.\n",
        "        \"\"\"\n",
        "        # Generate a range of x-values for plotting\n",
        "        x = np.linspace(\n",
        "            min(self.mean_strength - 4 * self.std_strength, self.mean_stress - 4 * self.std_stress),\n",
        "            max(self.mean_strength + 4 * self.std_strength, self.mean_stress + 4 * self.std_stress),\n",
        "            1000,\n",
        "        )\n",
        "\n",
        "        # Calculate the corresponding normal distribution for strength and stress\n",
        "        strength_distribution = norm.pdf(x, self.mean_strength, self.std_strength)\n",
        "        stress_distribution = norm.pdf(x, self.mean_stress, self.std_stress)\n",
        "\n",
        "        # Plot the distributions\n",
        "        plt.figure(figsize=(10, 6))\n",
        "        plt.plot(x, strength_distribution, label=\"Strength Distribution\", color='b')\n",
        "        plt.plot(x, stress_distribution, label=\"Stress Distribution\", color='r')\n",
        "        plt.fill_between(x, stress_distribution, \n",
        "                         color='tab:red', alpha=0.2, \n",
        "                         )\n",
        "        plt.fill_between(x, strength_distribution, \n",
        "                         # where=(strength_distribution < stress_distribution ), \n",
        "                         color='tab:blue', alpha=0.2, )\n",
        "        plt.xlabel(\"Stress/Strength\")\n",
        "        plt.ylabel(\"Probability Density\")\n",
        "        plt.title(\"Stress-Strength Interference Model\")\n",
        "        plt.legend()\n",
        "        plt.show()\n"
      ]
    },
    {
      "cell_type": "code",
      "execution_count": 42,
      "metadata": {},
      "outputs": [
        {
          "name": "stdout",
          "output_type": "stream",
          "text": [
            "Probability of failure (Monte Carlo simulation): 0.038524\n",
            "Probability of failure (normal equation): 0.038550\n"
          ]
        },
        {
          "data": {
            "image/png": "[encoded data removed]",
            "text/plain": [
              "<Figure size 1000x600 with 1 Axes>"
            ]
          },
          "metadata": {},
          "output_type": "display_data"
        }
      ],
      "source": [
        "ssa = StressStrengthModel(\n",
        "    mean_stress = 40,  # Mean of stress distribution,\n",
        "    std_stress = 4,   # Standard deviation of stress distribution\n",
        "    mean_strength = 50,  # Mean of strength distribution\n",
        "    std_strength = 4   # Standard deviation of strength distribution\n",
        ")\n",
        "\n",
        "print(f\"Probability of failure (Monte Carlo simulation): {ssa.probability_of_failure(method = 'monte_carlo'):.6f}\")\n",
        "print(f\"Probability of failure (normal equation): {ssa.probability_of_failure():.6f}\")\n",
        "ssa.plot_distributions()"
      ]
    },
    {
      "cell_type": "code",
      "execution_count": 49,
      "metadata": {},
      "outputs": [
        {
          "name": "stdout",
          "output_type": "stream",
          "text": [
            "\u001b[1m\u001b[23m\u001b[4m\u001b[49m\u001b[39mStress - Strength Interference\u001b[0m\n",
            "Stress Distribution: Normal Distribution (μ=40,σ=4)\n",
            "Strength Distribution: Normal Distribution (μ=50,σ=4)\n",
            "Probability of failure (stress > strength): 3.85499 %\n"
          ]
        },
        {
          "data": {
            "image/png": "[encoded data removed]",
            "text/plain": [
              "<Figure size 640x480 with 1 Axes>"
            ]
          },
          "metadata": {},
          "output_type": "display_data"
        }
      ],
      "source": [
        "from reliability import Distributions\n",
        "from reliability.Other_functions import stress_strength_normal\n",
        "\n",
        "stress = Distributions.Normal_Distribution(mu=40,sigma=4)\n",
        "strength = Distributions.Normal_Distribution(mu=50,sigma=4)\n",
        "stress_strength_normal(stress=stress, strength=strength)\n",
        "plt.xlim(20,70)\n",
        "plt.show()"
      ]
    },
    {
      "cell_type": "code",
      "execution_count": 51,
      "metadata": {},
      "outputs": [
        {
          "name": "stdout",
          "output_type": "stream",
          "text": [
            "\u001b[1m\u001b[23m\u001b[4m\u001b[49m\u001b[39mStress - Strength Interference\u001b[0m\n",
            "Stress Distribution: Weibull Distribution (α=2,β=3,γ=1)\n",
            "Strength Distribution: Gamma Distribution (α=2,β=3,γ=3)\n",
            "Probability of failure (stress > strength): 0.17078 %\n"
          ]
        },
        {
          "data": {
            "image/png": "[encoded data removed]",
            "text/plain": [
              "<Figure size 640x480 with 1 Axes>"
            ]
          },
          "metadata": {},
          "output_type": "display_data"
        }
      ],
      "source": [
        "from reliability.Other_functions import stress_strength\n",
        "stress = Distributions.Weibull_Distribution(alpha=2, beta=3, gamma=1)\n",
        "strength = Distributions.Gamma_Distribution(alpha=2, beta=3, gamma=3)\n",
        "stress_strength(stress=stress, strength=strength)\n",
        "plt.xlim(0,20)\n",
        "plt.show()"
      ]
    },
    {
      "cell_type": "markdown",
      "metadata": {},
      "source": [
        "Fitting a Weibull distribution to right-censored time-to-failure data involves statistical methods to estimate the shape and scale parameters of the distribution. Libraries like scipy provide optimization methods for parameter estimation.\n",
        "\n",
        "Below is a Python code snippet using scipy.optimize to fit a Weibull distribution to right-censored data. For this example, let's assume we have a data set containing time-to-failure data and some censored data points:"
      ]
    },
    {
      "cell_type": "code",
      "execution_count": 58,
      "metadata": {},
      "outputs": [
        {
          "name": "stdout",
          "output_type": "stream",
          "text": [
            "\u001b[1m\u001b[23m\u001b[4m\u001b[49m\u001b[39mResults from Fit_Weibull_2P (95% CI):\u001b[0m\n",
            "Analysis method: Maximum Likelihood Estimation (MLE)\n",
            "Optimizer: TNC\n",
            "Failures / Right censored: 20/0 (0% right censored) \n",
            "\n",
            "Parameter  Point Estimate  Standard Error  Lower CI  Upper CI\n",
            "    Alpha         28.1696         3.57032   21.9733   36.1131\n",
            "     Beta         1.86308         0.32449   1.32428   2.62111 \n",
            "\n",
            "Goodness of fit    Value\n",
            " Log-likelihood -79.5482\n",
            "           AICc  163.802\n",
            "            BIC  165.088\n",
            "             AD  0.83728 \n",
            "\n"
          ]
        },
        {
          "data": {
            "image/png": "[encoded data removed]",
            "text/plain": [
              "<Figure size 900x900 with 2 Axes>"
            ]
          },
          "metadata": {},
          "output_type": "display_data"
        }
      ],
      "source": [
        "from reliability.Distributions import Weibull_Distribution\n",
        "from reliability.Fitters import Fit_Weibull_2P\n",
        "from reliability.Probability_plotting import plot_points\n",
        "import matplotlib.pyplot as plt\n",
        "\n",
        "dist = Weibull_Distribution(alpha=30, beta=2)  # creates the distribution object\n",
        "data = dist.random_samples(20, seed=42)  # draws 20 samples from the distribution. Seeded for repeatability\n",
        "plt.subplot(121)\n",
        "fit = Fit_Weibull_2P(failures=data)  # fits a Weibull distribution to the data and generates the probability plot\n",
        "plt.subplot(122)\n",
        "fit.distribution.SF(label='fitted distribution')  # uses the distribution object from Fit_Weibull_2P and plots the survival function\n",
        "dist.SF(label='original distribution', linestyle='--') # plots the survival function of the original distribution\n",
        "plot_points(failures=data, func='SF')  # overlays the original data on the survival function\n",
        "plt.legend()\n",
        "plt.show()"
      ]
    },
    {
      "cell_type": "code",
      "execution_count": 65,
      "metadata": {},
      "outputs": [
        {
          "name": "stdout",
          "output_type": "stream",
          "text": [
            "\u001b[1m\u001b[23m\u001b[4m\u001b[49m\u001b[39mResults from Fit_Weibull_2P (95% CI):\u001b[0m\n",
            "Analysis method: Maximum Likelihood Estimation (MLE)\n",
            "Optimizer: TNC\n",
            "Failures / Right censored: 4/2 (33.33333% right censored) \n",
            "\n",
            "Parameter  Point Estimate  Standard Error  Lower CI  Upper CI\n",
            "    Alpha         78.6413         28.8663   38.3007   161.471\n",
            "     Beta         1.38131        0.617086  0.575478   3.31556 \n",
            "\n",
            "Goodness of fit    Value\n",
            " Log-likelihood -21.4796\n",
            "           AICc  50.9592\n",
            "            BIC  46.5427\n",
            "             AD  18.1853 \n",
            "\n"
          ]
        },
        {
          "data": {
            "text/plain": [
              "<reliability.Fitters.Fit_Weibull_2P at 0x17502d390>"
            ]
          },
          "execution_count": 65,
          "metadata": {},
          "output_type": "execute_result"
        },
        {
          "data": {
            "image/png": "[encoded data removed]",
            "text/plain": [
              "<Figure size 900x900 with 1 Axes>"
            ]
          },
          "metadata": {},
          "output_type": "display_data"
        }
      ],
      "source": [
        "# Example time-to-failure data\n",
        "data = np.array([10, 35, 50, 70])\n",
        "# Example right-censored data\n",
        "censored_data = np.array([80, 90])\n",
        "fit = Fit_Weibull_2P(failures=data, right_censored=censored_data) \n",
        "fit"
      ]
    },
    {
      "cell_type": "code",
      "execution_count": 62,
      "metadata": {},
      "outputs": [
        {
          "name": "stdout",
          "output_type": "stream",
          "text": [
            "Shape parameter: 1.8012462759576051\n",
            "Scale parameter: 48.0148003624413\n"
          ]
        }
      ],
      "source": [
        "from scipy.optimize import minimize\n",
        "import numpy as np\n",
        "\n",
        "def weibull_pdf(x, shape, scale):\n",
        "    return (shape / scale) * ((x / scale) ** (shape - 1)) * np.exp(-((x / scale) ** shape))\n",
        "\n",
        "def weibull_log_likelihood(params, data, censored_data):\n",
        "    shape, scale = params\n",
        "    # Calculate the log-likelihood for non-censored (failed) data\n",
        "    log_likelihood = np.sum(np.log(weibull_pdf(data, shape, scale)))\n",
        "    # For right-censored data, the log-likelihood is calculated using the survival function: 1 - CDF\n",
        "    log_likelihood += np.sum(-(shape / scale) * ((censored_data / scale) ** shape))\n",
        "    # We return the negative log-likelihood because scipy's \"minimize\" seeks to find the minimum value of the given function\n",
        "    return -log_likelihood\n",
        "\n",
        "# Example time-to-failure data\n",
        "data = np.array([10, 35, 50, 70])\n",
        "# Example right-censored data\n",
        "censored_data = np.array([80, 90])\n",
        "\n",
        "# Initial guesses for shape and scale parameters\n",
        "initial_guess = [1.3, 50]\n",
        "\n",
        "# Optimization to fit Weibull distribution\n",
        "result = minimize(weibull_log_likelihood, initial_guess, args=(data, censored_data), bounds=[(0.01, 10), (0.01, 100)])\n",
        "\n",
        "# Resulting shape and scale parameters\n",
        "shape, scale = result.x\n",
        "\n",
        "print(f\"Shape parameter: {shape}\")\n",
        "print(f\"Scale parameter: {scale}\")\n",
        "\n"
      ]
    },
    {
      "cell_type": "code",
      "execution_count": 63,
      "metadata": {},
      "outputs": [
        {
          "name": "stdout",
          "output_type": "stream",
          "text": [
            "Shape parameter: 1.8630843559609829\n",
            "Scale parameter: 28.169564901880527\n"
          ]
        }
      ],
      "source": [
        "dist = Weibull_Distribution(alpha=30, beta=2)  # creates the distribution object\n",
        "data = dist.random_samples(20, seed=42)  # draws 20 samples from the distribution. Seeded for repeatability\n",
        "\n",
        "initial_guess = [1.3, 50]\n",
        "\n",
        "# Optimization to fit Weibull distribution\n",
        "result = minimize(weibull_log_likelihood, initial_guess, args=(data, []), bounds=[(0.01, 10), (0.01, 100)])\n",
        "\n",
        "# Resulting shape and scale parameters\n",
        "shape, scale = result.x\n",
        "print(f\"Shape parameter: {shape}\")\n",
        "print(f\"Scale parameter: {scale}\")"
      ]
    },
    {
      "cell_type": "code",
      "execution_count": 7,
      "metadata": {
        "colab": {
          "base_uri": "https://localhost:8080/",
          "height": 369
        },
        "id": "FdsAt1aGnSjU",
        "outputId": "2e481e6e-432d-42ed-c839-e0c97e217158"
      },
      "outputs": [
        {
          "data": {
            "application/vnd.vegalite.v5+json": {
              "$schema": "https://vega.github.io/schema/vega-lite/v5.16.3.json",
              "config": {
                "view": {
                  "continuousHeight": 300,
                  "continuousWidth": 300
                }
              },
              "data": {
                "name": "data-f02450ab61490a1363517a0190416235"
              },
              "datasets": {
                "data-f02450ab61490a1363517a0190416235": [
                  {
                    "Acceleration": 12,
                    "Cylinders": 8,
                    "Displacement": 307,
                    "Horsepower": 130,
                    "Miles_per_Gallon": 18,
                    "Name": "chevrolet chevelle malibu",
                    "Origin": "USA",
                    "Weight_in_lbs": 3504,
                    "Year": "1970-01-01T00:00:00"
                  },
                  {
                    "Acceleration": 11.5,
                    "Cylinders": 8,
                    "Displacement": 350,
                    "Horsepower": 165,
                    "Miles_per_Gallon": 15,
                    "Name": "buick skylark 320",
                    "Origin": "USA",
                    "Weight_in_lbs": 3693,
                    "Year": "1970-01-01T00:00:00"
                  },
                  {
                    "Acceleration": 11,
                    "Cylinders": 8,
                    "Displacement": 318,
                    "Horsepower": 150,
                    "Miles_per_Gallon": 18,
                    "Name": "plymouth satellite",
                    "Origin": "USA",
                    "Weight_in_lbs": 3436,
                    "Year": "1970-01-01T00:00:00"
                  },
                  {
                    "Acceleration": 12,
                    "Cylinders": 8,
                    "Displacement": 304,
                    "Horsepower": 150,
                    "Miles_per_Gallon": 16,
                    "Name": "amc rebel sst",
                    "Origin": "USA",
                    "Weight_in_lbs": 3433,
                    "Year": "1970-01-01T00:00:00"
                  },
                  {
                    "Acceleration": 10.5,
                    "Cylinders": 8,
                    "Displacement": 302,
                    "Horsepower": 140,
                    "Miles_per_Gallon": 17,
                    "Name": "ford torino",
                    "Origin": "USA",
                    "Weight_in_lbs": 3449,
                    "Year": "1970-01-01T00:00:00"
                  },
                  {
                    "Acceleration": 10,
                    "Cylinders": 8,
                    "Displacement": 429,
                    "Horsepower": 198,
                    "Miles_per_Gallon": 15,
                    "Name": "ford galaxie 500",
                    "Origin": "USA",
                    "Weight_in_lbs": 4341,
                    "Year": "1970-01-01T00:00:00"
                  },
                  {
                    "Acceleration": 9,
                    "Cylinders": 8,
                    "Displacement": 454,
                    "Horsepower": 220,
                    "Miles_per_Gallon": 14,
                    "Name": "chevrolet impala",
                    "Origin": "USA",
                    "Weight_in_lbs": 4354,
                    "Year": "1970-01-01T00:00:00"
                  },
                  {
                    "Acceleration": 8.5,
                    "Cylinders": 8,
                    "Displacement": 440,
                    "Horsepower": 215,
                    "Miles_per_Gallon": 14,
                    "Name": "plymouth fury iii",
                    "Origin": "USA",
                    "Weight_in_lbs": 4312,
                    "Year": "1970-01-01T00:00:00"
                  },
                  {
                    "Acceleration": 10,
                    "Cylinders": 8,
                    "Displacement": 455,
                    "Horsepower": 225,
                    "Miles_per_Gallon": 14,
                    "Name": "pontiac catalina",
                    "Origin": "USA",
                    "Weight_in_lbs": 4425,
                    "Year": "1970-01-01T00:00:00"
                  },
                  {
                    "Acceleration": 8.5,
                    "Cylinders": 8,
                    "Displacement": 390,
                    "Horsepower": 190,
                    "Miles_per_Gallon": 15,
                    "Name": "amc ambassador dpl",
                    "Origin": "USA",
                    "Weight_in_lbs": 3850,
                    "Year": "1970-01-01T00:00:00"
                  },
                  {
                    "Acceleration": 17.5,
                    "Cylinders": 4,
                    "Displacement": 133,
                    "Horsepower": 115,
                    "Miles_per_Gallon": null,
                    "Name": "citroen ds-21 pallas",
                    "Origin": "Europe",
                    "Weight_in_lbs": 3090,
                    "Year": "1970-01-01T00:00:00"
                  },
                  {
                    "Acceleration": 11.5,
                    "Cylinders": 8,
                    "Displacement": 350,
                    "Horsepower": 165,
                    "Miles_per_Gallon": null,
                    "Name": "chevrolet chevelle concours (sw)",
                    "Origin": "USA",
                    "Weight_in_lbs": 4142,
                    "Year": "1970-01-01T00:00:00"
                  },
                  {
                    "Acceleration": 11,
                    "Cylinders": 8,
                    "Displacement": 351,
                    "Horsepower": 153,
                    "Miles_per_Gallon": null,
                    "Name": "ford torino (sw)",
                    "Origin": "USA",
                    "Weight_in_lbs": 4034,
                    "Year": "1970-01-01T00:00:00"
                  },
                  {
                    "Acceleration": 10.5,
                    "Cylinders": 8,
                    "Displacement": 383,
                    "Horsepower": 175,
                    "Miles_per_Gallon": null,
                    "Name": "plymouth satellite (sw)",
                    "Origin": "USA",
                    "Weight_in_lbs": 4166,
                    "Year": "1970-01-01T00:00:00"
                  },
                  {
                    "Acceleration": 11,
                    "Cylinders": 8,
                    "Displacement": 360,
                    "Horsepower": 175,
                    "Miles_per_Gallon": null,
                    "Name": "amc rebel sst (sw)",
                    "Origin": "USA",
                    "Weight_in_lbs": 3850,
                    "Year": "1970-01-01T00:00:00"
                  },
                  {
                    "Acceleration": 10,
                    "Cylinders": 8,
                    "Displacement": 383,
                    "Horsepower": 170,
                    "Miles_per_Gallon": 15,
                    "Name": "dodge challenger se",
                    "Origin": "USA",
                    "Weight_in_lbs": 3563,
                    "Year": "1970-01-01T00:00:00"
                  },
                  {
                    "Acceleration": 8,
                    "Cylinders": 8,
                    "Displacement": 340,
                    "Horsepower": 160,
                    "Miles_per_Gallon": 14,
                    "Name": "plymouth 'cuda 340",
                    "Origin": "USA",
                    "Weight_in_lbs": 3609,
                    "Year": "1970-01-01T00:00:00"
                  },
                  {
                    "Acceleration": 8,
                    "Cylinders": 8,
                    "Displacement": 302,
                    "Horsepower": 140,
                    "Miles_per_Gallon": null,
                    "Name": "ford mustang boss 302",
                    "Origin": "USA",
                    "Weight_in_lbs": 3353,
                    "Year": "1970-01-01T00:00:00"
                  },
                  {
                    "Acceleration": 9.5,
                    "Cylinders": 8,
                    "Displacement": 400,
                    "Horsepower": 150,
                    "Miles_per_Gallon": 15,
                    "Name": "chevrolet monte carlo",
                    "Origin": "USA",
                    "Weight_in_lbs": 3761,
                    "Year": "1970-01-01T00:00:00"
                  },
                  {
                    "Acceleration": 10,
                    "Cylinders": 8,
                    "Displacement": 455,
                    "Horsepower": 225,
                    "Miles_per_Gallon": 14,
                    "Name": "buick estate wagon (sw)",
                    "Origin": "USA",
                    "Weight_in_lbs": 3086,
                    "Year": "1970-01-01T00:00:00"
                  },
                  {
                    "Acceleration": 15,
                    "Cylinders": 4,
                    "Displacement": 113,
                    "Horsepower": 95,
                    "Miles_per_Gallon": 24,
                    "Name": "toyota corona mark ii",
                    "Origin": "Japan",
                    "Weight_in_lbs": 2372,
                    "Year": "1970-01-01T00:00:00"
                  },
                  {
                    "Acceleration": 15.5,
                    "Cylinders": 6,
                    "Displacement": 198,
                    "Horsepower": 95,
                    "Miles_per_Gallon": 22,
                    "Name": "plymouth duster",
                    "Origin": "USA",
                    "Weight_in_lbs": 2833,
                    "Year": "1970-01-01T00:00:00"
                  },
                  {
                    "Acceleration": 15.5,
                    "Cylinders": 6,
                    "Displacement": 199,
                    "Horsepower": 97,
                    "Miles_per_Gallon": 18,
                    "Name": "amc hornet",
                    "Origin": "USA",
                    "Weight_in_lbs": 2774,
                    "Year": "1970-01-01T00:00:00"
                  },
                  {
                    "Acceleration": 16,
                    "Cylinders": 6,
                    "Displacement": 200,
                    "Horsepower": 85,
                    "Miles_per_Gallon": 21,
                    "Name": "ford maverick",
                    "Origin": "USA",
                    "Weight_in_lbs": 2587,
                    "Year": "1970-01-01T00:00:00"
                  },
                  {
                    "Acceleration": 14.5,
                    "Cylinders": 4,
                    "Displacement": 97,
                    "Horsepower": 88,
                    "Miles_per_Gallon": 27,
                    "Name": "datsun pl510",
                    "Origin": "Japan",
                    "Weight_in_lbs": 2130,
                    "Year": "1970-01-01T00:00:00"
                  },
                  {
                    "Acceleration": 20.5,
                    "Cylinders": 4,
                    "Displacement": 97,
                    "Horsepower": 46,
                    "Miles_per_Gallon": 26,
                    "Name": "volkswagen 1131 deluxe sedan",
                    "Origin": "Europe",
                    "Weight_in_lbs": 1835,
                    "Year": "1970-01-01T00:00:00"
                  },
                  {
                    "Acceleration": 17.5,
                    "Cylinders": 4,
                    "Displacement": 110,
                    "Horsepower": 87,
                    "Miles_per_Gallon": 25,
                    "Name": "peugeot 504",
                    "Origin": "Europe",
                    "Weight_in_lbs": 2672,
                    "Year": "1970-01-01T00:00:00"
                  },
                  {
                    "Acceleration": 14.5,
                    "Cylinders": 4,
                    "Displacement": 107,
                    "Horsepower": 90,
                    "Miles_per_Gallon": 24,
                    "Name": "audi 100 ls",
                    "Origin": "Europe",
                    "Weight_in_lbs": 2430,
                    "Year": "1970-01-01T00:00:00"
                  },
                  {
                    "Acceleration": 17.5,
                    "Cylinders": 4,
                    "Displacement": 104,
                    "Horsepower": 95,
                    "Miles_per_Gallon": 25,
                    "Name": "saab 99e",
                    "Origin": "Europe",
                    "Weight_in_lbs": 2375,
                    "Year": "1970-01-01T00:00:00"
                  },
                  {
                    "Acceleration": 12.5,
                    "Cylinders": 4,
                    "Displacement": 121,
                    "Horsepower": 113,
                    "Miles_per_Gallon": 26,
                    "Name": "bmw 2002",
                    "Origin": "Europe",
                    "Weight_in_lbs": 2234,
                    "Year": "1970-01-01T00:00:00"
                  },
                  {
                    "Acceleration": 15,
                    "Cylinders": 6,
                    "Displacement": 199,
                    "Horsepower": 90,
                    "Miles_per_Gallon": 21,
                    "Name": "amc gremlin",
                    "Origin": "USA",
                    "Weight_in_lbs": 2648,
                    "Year": "1970-01-01T00:00:00"
                  },
                  {
                    "Acceleration": 14,
                    "Cylinders": 8,
                    "Displacement": 360,
                    "Horsepower": 215,
                    "Miles_per_Gallon": 10,
                    "Name": "ford f250",
                    "Origin": "USA",
                    "Weight_in_lbs": 4615,
                    "Year": "1970-01-01T00:00:00"
                  },
                  {
                    "Acceleration": 15,
                    "Cylinders": 8,
                    "Displacement": 307,
                    "Horsepower": 200,
                    "Miles_per_Gallon": 10,
                    "Name": "chevy c20",
                    "Origin": "USA",
                    "Weight_in_lbs": 4376,
                    "Year": "1970-01-01T00:00:00"
                  },
                  {
                    "Acceleration": 13.5,
                    "Cylinders": 8,
                    "Displacement": 318,
                    "Horsepower": 210,
                    "Miles_per_Gallon": 11,
                    "Name": "dodge d200",
                    "Origin": "USA",
                    "Weight_in_lbs": 4382,
                    "Year": "1970-01-01T00:00:00"
                  },
                  {
                    "Acceleration": 18.5,
                    "Cylinders": 8,
                    "Displacement": 304,
                    "Horsepower": 193,
                    "Miles_per_Gallon": 9,
                    "Name": "hi 1200d",
                    "Origin": "USA",
                    "Weight_in_lbs": 4732,
                    "Year": "1970-01-01T00:00:00"
                  },
                  {
                    "Acceleration": 14.5,
                    "Cylinders": 4,
                    "Displacement": 97,
                    "Horsepower": 88,
                    "Miles_per_Gallon": 27,
                    "Name": "datsun pl510",
                    "Origin": "Japan",
                    "Weight_in_lbs": 2130,
                    "Year": "1971-01-01T00:00:00"
                  },
                  {
                    "Acceleration": 15.5,
                    "Cylinders": 4,
                    "Displacement": 140,
                    "Horsepower": 90,
                    "Miles_per_Gallon": 28,
                    "Name": "chevrolet vega 2300",
                    "Origin": "USA",
                    "Weight_in_lbs": 2264,
                    "Year": "1971-01-01T00:00:00"
                  },
                  {
                    "Acceleration": 14,
                    "Cylinders": 4,
                    "Displacement": 113,
                    "Horsepower": 95,
                    "Miles_per_Gallon": 25,
                    "Name": "toyota corona",
                    "Origin": "Japan",
                    "Weight_in_lbs": 2228,
                    "Year": "1971-01-01T00:00:00"
                  },
                  {
                    "Acceleration": 19,
                    "Cylinders": 4,
                    "Displacement": 98,
                    "Horsepower": null,
                    "Miles_per_Gallon": 25,
                    "Name": "ford pinto",
                    "Origin": "USA",
                    "Weight_in_lbs": 2046,
                    "Year": "1971-01-01T00:00:00"
                  },
                  {
                    "Acceleration": 20,
                    "Cylinders": 4,
                    "Displacement": 97,
                    "Horsepower": 48,
                    "Miles_per_Gallon": null,
                    "Name": "volkswagen super beetle 117",
                    "Origin": "Europe",
                    "Weight_in_lbs": 1978,
                    "Year": "1971-01-01T00:00:00"
                  },
                  {
                    "Acceleration": 13,
                    "Cylinders": 6,
                    "Displacement": 232,
                    "Horsepower": 100,
                    "Miles_per_Gallon": 19,
                    "Name": "amc gremlin",
                    "Origin": "USA",
                    "Weight_in_lbs": 2634,
                    "Year": "1971-01-01T00:00:00"
                  },
                  {
                    "Acceleration": 15.5,
                    "Cylinders": 6,
                    "Displacement": 225,
                    "Horsepower": 105,
                    "Miles_per_Gallon": 16,
                    "Name": "plymouth satellite custom",
                    "Origin": "USA",
                    "Weight_in_lbs": 3439,
                    "Year": "1971-01-01T00:00:00"
                  },
                  {
                    "Acceleration": 15.5,
                    "Cylinders": 6,
                    "Displacement": 250,
                    "Horsepower": 100,
                    "Miles_per_Gallon": 17,
                    "Name": "chevrolet chevelle malibu",
                    "Origin": "USA",
                    "Weight_in_lbs": 3329,
                    "Year": "1971-01-01T00:00:00"
                  },
                  {
                    "Acceleration": 15.5,
                    "Cylinders": 6,
                    "Displacement": 250,
                    "Horsepower": 88,
                    "Miles_per_Gallon": 19,
                    "Name": "ford torino 500",
                    "Origin": "USA",
                    "Weight_in_lbs": 3302,
                    "Year": "1971-01-01T00:00:00"
                  },
                  {
                    "Acceleration": 15.5,
                    "Cylinders": 6,
                    "Displacement": 232,
                    "Horsepower": 100,
                    "Miles_per_Gallon": 18,
                    "Name": "amc matador",
                    "Origin": "USA",
                    "Weight_in_lbs": 3288,
                    "Year": "1971-01-01T00:00:00"
                  },
                  {
                    "Acceleration": 12,
                    "Cylinders": 8,
                    "Displacement": 350,
                    "Horsepower": 165,
                    "Miles_per_Gallon": 14,
                    "Name": "chevrolet impala",
                    "Origin": "USA",
                    "Weight_in_lbs": 4209,
                    "Year": "1971-01-01T00:00:00"
                  },
                  {
                    "Acceleration": 11.5,
                    "Cylinders": 8,
                    "Displacement": 400,
                    "Horsepower": 175,
                    "Miles_per_Gallon": 14,
                    "Name": "pontiac catalina brougham",
                    "Origin": "USA",
                    "Weight_in_lbs": 4464,
                    "Year": "1971-01-01T00:00:00"
                  },
                  {
                    "Acceleration": 13.5,
                    "Cylinders": 8,
                    "Displacement": 351,
                    "Horsepower": 153,
                    "Miles_per_Gallon": 14,
                    "Name": "ford galaxie 500",
                    "Origin": "USA",
                    "Weight_in_lbs": 4154,
                    "Year": "1971-01-01T00:00:00"
                  },
                  {
                    "Acceleration": 13,
                    "Cylinders": 8,
                    "Displacement": 318,
                    "Horsepower": 150,
                    "Miles_per_Gallon": 14,
                    "Name": "plymouth fury iii",
                    "Origin": "USA",
                    "Weight_in_lbs": 4096,
                    "Year": "1971-01-01T00:00:00"
                  },
                  {
                    "Acceleration": 11.5,
                    "Cylinders": 8,
                    "Displacement": 383,
                    "Horsepower": 180,
                    "Miles_per_Gallon": 12,
                    "Name": "dodge monaco (sw)",
                    "Origin": "USA",
                    "Weight_in_lbs": 4955,
                    "Year": "1971-01-01T00:00:00"
                  },
                  {
                    "Acceleration": 12,
                    "Cylinders": 8,
                    "Displacement": 400,
                    "Horsepower": 170,
                    "Miles_per_Gallon": 13,
                    "Name": "ford country squire (sw)",
                    "Origin": "USA",
                    "Weight_in_lbs": 4746,
                    "Year": "1971-01-01T00:00:00"
                  },
                  {
                    "Acceleration": 12,
                    "Cylinders": 8,
                    "Displacement": 400,
                    "Horsepower": 175,
                    "Miles_per_Gallon": 13,
                    "Name": "pontiac safari (sw)",
                    "Origin": "USA",
                    "Weight_in_lbs": 5140,
                    "Year": "1971-01-01T00:00:00"
                  },
                  {
                    "Acceleration": 13.5,
                    "Cylinders": 6,
                    "Displacement": 258,
                    "Horsepower": 110,
                    "Miles_per_Gallon": 18,
                    "Name": "amc hornet sportabout (sw)",
                    "Origin": "USA",
                    "Weight_in_lbs": 2962,
                    "Year": "1971-01-01T00:00:00"
                  },
                  {
                    "Acceleration": 19,
                    "Cylinders": 4,
                    "Displacement": 140,
                    "Horsepower": 72,
                    "Miles_per_Gallon": 22,
                    "Name": "chevrolet vega (sw)",
                    "Origin": "USA",
                    "Weight_in_lbs": 2408,
                    "Year": "1971-01-01T00:00:00"
                  },
                  {
                    "Acceleration": 15,
                    "Cylinders": 6,
                    "Displacement": 250,
                    "Horsepower": 100,
                    "Miles_per_Gallon": 19,
                    "Name": "pontiac firebird",
                    "Origin": "USA",
                    "Weight_in_lbs": 3282,
                    "Year": "1971-01-01T00:00:00"
                  },
                  {
                    "Acceleration": 14.5,
                    "Cylinders": 6,
                    "Displacement": 250,
                    "Horsepower": 88,
                    "Miles_per_Gallon": 18,
                    "Name": "ford mustang",
                    "Origin": "USA",
                    "Weight_in_lbs": 3139,
                    "Year": "1971-01-01T00:00:00"
                  },
                  {
                    "Acceleration": 14,
                    "Cylinders": 4,
                    "Displacement": 122,
                    "Horsepower": 86,
                    "Miles_per_Gallon": 23,
                    "Name": "mercury capri 2000",
                    "Origin": "USA",
                    "Weight_in_lbs": 2220,
                    "Year": "1971-01-01T00:00:00"
                  },
                  {
                    "Acceleration": 14,
                    "Cylinders": 4,
                    "Displacement": 116,
                    "Horsepower": 90,
                    "Miles_per_Gallon": 28,
                    "Name": "opel 1900",
                    "Origin": "Europe",
                    "Weight_in_lbs": 2123,
                    "Year": "1971-01-01T00:00:00"
                  },
                  {
                    "Acceleration": 19.5,
                    "Cylinders": 4,
                    "Displacement": 79,
                    "Horsepower": 70,
                    "Miles_per_Gallon": 30,
                    "Name": "peugeot 304",
                    "Origin": "Europe",
                    "Weight_in_lbs": 2074,
                    "Year": "1971-01-01T00:00:00"
                  },
                  {
                    "Acceleration": 14.5,
                    "Cylinders": 4,
                    "Displacement": 88,
                    "Horsepower": 76,
                    "Miles_per_Gallon": 30,
                    "Name": "fiat 124b",
                    "Origin": "Europe",
                    "Weight_in_lbs": 2065,
                    "Year": "1971-01-01T00:00:00"
                  },
                  {
                    "Acceleration": 19,
                    "Cylinders": 4,
                    "Displacement": 71,
                    "Horsepower": 65,
                    "Miles_per_Gallon": 31,
                    "Name": "toyota corolla 1200",
                    "Origin": "Japan",
                    "Weight_in_lbs": 1773,
                    "Year": "1971-01-01T00:00:00"
                  },
                  {
                    "Acceleration": 18,
                    "Cylinders": 4,
                    "Displacement": 72,
                    "Horsepower": 69,
                    "Miles_per_Gallon": 35,
                    "Name": "datsun 1200",
                    "Origin": "Japan",
                    "Weight_in_lbs": 1613,
                    "Year": "1971-01-01T00:00:00"
                  },
                  {
                    "Acceleration": 19,
                    "Cylinders": 4,
                    "Displacement": 97,
                    "Horsepower": 60,
                    "Miles_per_Gallon": 27,
                    "Name": "volkswagen model 111",
                    "Origin": "Europe",
                    "Weight_in_lbs": 1834,
                    "Year": "1971-01-01T00:00:00"
                  },
                  {
                    "Acceleration": 20.5,
                    "Cylinders": 4,
                    "Displacement": 91,
                    "Horsepower": 70,
                    "Miles_per_Gallon": 26,
                    "Name": "plymouth cricket",
                    "Origin": "USA",
                    "Weight_in_lbs": 1955,
                    "Year": "1971-01-01T00:00:00"
                  },
                  {
                    "Acceleration": 15.5,
                    "Cylinders": 4,
                    "Displacement": 113,
                    "Horsepower": 95,
                    "Miles_per_Gallon": 24,
                    "Name": "toyota corona hardtop",
                    "Origin": "Japan",
                    "Weight_in_lbs": 2278,
                    "Year": "1972-01-01T00:00:00"
                  },
                  {
                    "Acceleration": 17,
                    "Cylinders": 4,
                    "Displacement": 97.5,
                    "Horsepower": 80,
                    "Miles_per_Gallon": 25,
                    "Name": "dodge colt hardtop",
                    "Origin": "USA",
                    "Weight_in_lbs": 2126,
                    "Year": "1972-01-01T00:00:00"
                  },
                  {
                    "Acceleration": 23.5,
                    "Cylinders": 4,
                    "Displacement": 97,
                    "Horsepower": 54,
                    "Miles_per_Gallon": 23,
                    "Name": "volkswagen type 3",
                    "Origin": "Europe",
                    "Weight_in_lbs": 2254,
                    "Year": "1972-01-01T00:00:00"
                  },
                  {
                    "Acceleration": 19.5,
                    "Cylinders": 4,
                    "Displacement": 140,
                    "Horsepower": 90,
                    "Miles_per_Gallon": 20,
                    "Name": "chevrolet vega",
                    "Origin": "USA",
                    "Weight_in_lbs": 2408,
                    "Year": "1972-01-01T00:00:00"
                  },
                  {
                    "Acceleration": 16.5,
                    "Cylinders": 4,
                    "Displacement": 122,
                    "Horsepower": 86,
                    "Miles_per_Gallon": 21,
                    "Name": "ford pinto runabout",
                    "Origin": "USA",
                    "Weight_in_lbs": 2226,
                    "Year": "1972-01-01T00:00:00"
                  },
                  {
                    "Acceleration": 12,
                    "Cylinders": 8,
                    "Displacement": 350,
                    "Horsepower": 165,
                    "Miles_per_Gallon": 13,
                    "Name": "chevrolet impala",
                    "Origin": "USA",
                    "Weight_in_lbs": 4274,
                    "Year": "1972-01-01T00:00:00"
                  },
                  {
                    "Acceleration": 12,
                    "Cylinders": 8,
                    "Displacement": 400,
                    "Horsepower": 175,
                    "Miles_per_Gallon": 14,
                    "Name": "pontiac catalina",
                    "Origin": "USA",
                    "Weight_in_lbs": 4385,
                    "Year": "1972-01-01T00:00:00"
                  },
                  {
                    "Acceleration": 13.5,
                    "Cylinders": 8,
                    "Displacement": 318,
                    "Horsepower": 150,
                    "Miles_per_Gallon": 15,
                    "Name": "plymouth fury iii",
                    "Origin": "USA",
                    "Weight_in_lbs": 4135,
                    "Year": "1972-01-01T00:00:00"
                  },
                  {
                    "Acceleration": 13,
                    "Cylinders": 8,
                    "Displacement": 351,
                    "Horsepower": 153,
                    "Miles_per_Gallon": 14,
                    "Name": "ford galaxie 500",
                    "Origin": "USA",
                    "Weight_in_lbs": 4129,
                    "Year": "1972-01-01T00:00:00"
                  },
                  {
                    "Acceleration": 11.5,
                    "Cylinders": 8,
                    "Displacement": 304,
                    "Horsepower": 150,
                    "Miles_per_Gallon": 17,
                    "Name": "amc ambassador sst",
                    "Origin": "USA",
                    "Weight_in_lbs": 3672,
                    "Year": "1972-01-01T00:00:00"
                  },
                  {
                    "Acceleration": 11,
                    "Cylinders": 8,
                    "Displacement": 429,
                    "Horsepower": 208,
                    "Miles_per_Gallon": 11,
                    "Name": "mercury marquis",
                    "Origin": "USA",
                    "Weight_in_lbs": 4633,
                    "Year": "1972-01-01T00:00:00"
                  },
                  {
                    "Acceleration": 13.5,
                    "Cylinders": 8,
                    "Displacement": 350,
                    "Horsepower": 155,
                    "Miles_per_Gallon": 13,
                    "Name": "buick lesabre custom",
                    "Origin": "USA",
                    "Weight_in_lbs": 4502,
                    "Year": "1972-01-01T00:00:00"
                  },
                  {
                    "Acceleration": 13.5,
                    "Cylinders": 8,
                    "Displacement": 350,
                    "Horsepower": 160,
                    "Miles_per_Gallon": 12,
                    "Name": "oldsmobile delta 88 royale",
                    "Origin": "USA",
                    "Weight_in_lbs": 4456,
                    "Year": "1972-01-01T00:00:00"
                  },
                  {
                    "Acceleration": 12.5,
                    "Cylinders": 8,
                    "Displacement": 400,
                    "Horsepower": 190,
                    "Miles_per_Gallon": 13,
                    "Name": "chrysler newport royal",
                    "Origin": "USA",
                    "Weight_in_lbs": 4422,
                    "Year": "1972-01-01T00:00:00"
                  },
                  {
                    "Acceleration": 13.5,
                    "Cylinders": 3,
                    "Displacement": 70,
                    "Horsepower": 97,
                    "Miles_per_Gallon": 19,
                    "Name": "mazda rx2 coupe",
                    "Origin": "Japan",
                    "Weight_in_lbs": 2330,
                    "Year": "1972-01-01T00:00:00"
                  },
                  {
                    "Acceleration": 12.5,
                    "Cylinders": 8,
                    "Displacement": 304,
                    "Horsepower": 150,
                    "Miles_per_Gallon": 15,
                    "Name": "amc matador (sw)",
                    "Origin": "USA",
                    "Weight_in_lbs": 3892,
                    "Year": "1972-01-01T00:00:00"
                  },
                  {
                    "Acceleration": 14,
                    "Cylinders": 8,
                    "Displacement": 307,
                    "Horsepower": 130,
                    "Miles_per_Gallon": 13,
                    "Name": "chevrolet chevelle concours (sw)",
                    "Origin": "USA",
                    "Weight_in_lbs": 4098,
                    "Year": "1972-01-01T00:00:00"
                  },
                  {
                    "Acceleration": 16,
                    "Cylinders": 8,
                    "Displacement": 302,
                    "Horsepower": 140,
                    "Miles_per_Gallon": 13,
                    "Name": "ford gran torino (sw)",
                    "Origin": "USA",
                    "Weight_in_lbs": 4294,
                    "Year": "1972-01-01T00:00:00"
                  },
                  {
                    "Acceleration": 14,
                    "Cylinders": 8,
                    "Displacement": 318,
                    "Horsepower": 150,
                    "Miles_per_Gallon": 14,
                    "Name": "plymouth satellite custom (sw)",
                    "Origin": "USA",
                    "Weight_in_lbs": 4077,
                    "Year": "1972-01-01T00:00:00"
                  },
                  {
                    "Acceleration": 14.5,
                    "Cylinders": 4,
                    "Displacement": 121,
                    "Horsepower": 112,
                    "Miles_per_Gallon": 18,
                    "Name": "volvo 145e (sw)",
                    "Origin": "Europe",
                    "Weight_in_lbs": 2933,
                    "Year": "1972-01-01T00:00:00"
                  },
                  {
                    "Acceleration": 18,
                    "Cylinders": 4,
                    "Displacement": 121,
                    "Horsepower": 76,
                    "Miles_per_Gallon": 22,
                    "Name": "volkswagen 411 (sw)",
                    "Origin": "Europe",
                    "Weight_in_lbs": 2511,
                    "Year": "1972-01-01T00:00:00"
                  },
                  {
                    "Acceleration": 19.5,
                    "Cylinders": 4,
                    "Displacement": 120,
                    "Horsepower": 87,
                    "Miles_per_Gallon": 21,
                    "Name": "peugeot 504 (sw)",
                    "Origin": "Europe",
                    "Weight_in_lbs": 2979,
                    "Year": "1972-01-01T00:00:00"
                  },
                  {
                    "Acceleration": 18,
                    "Cylinders": 4,
                    "Displacement": 96,
                    "Horsepower": 69,
                    "Miles_per_Gallon": 26,
                    "Name": "renault 12 (sw)",
                    "Origin": "Europe",
                    "Weight_in_lbs": 2189,
                    "Year": "1972-01-01T00:00:00"
                  },
                  {
                    "Acceleration": 16,
                    "Cylinders": 4,
                    "Displacement": 122,
                    "Horsepower": 86,
                    "Miles_per_Gallon": 22,
                    "Name": "ford pinto (sw)",
                    "Origin": "USA",
                    "Weight_in_lbs": 2395,
                    "Year": "1972-01-01T00:00:00"
                  },
                  {
                    "Acceleration": 17,
                    "Cylinders": 4,
                    "Displacement": 97,
                    "Horsepower": 92,
                    "Miles_per_Gallon": 28,
                    "Name": "datsun 510 (sw)",
                    "Origin": "Japan",
                    "Weight_in_lbs": 2288,
                    "Year": "1972-01-01T00:00:00"
                  },
                  {
                    "Acceleration": 14.5,
                    "Cylinders": 4,
                    "Displacement": 120,
                    "Horsepower": 97,
                    "Miles_per_Gallon": 23,
                    "Name": "toyouta corona mark ii (sw)",
                    "Origin": "Japan",
                    "Weight_in_lbs": 2506,
                    "Year": "1972-01-01T00:00:00"
                  },
                  {
                    "Acceleration": 15,
                    "Cylinders": 4,
                    "Displacement": 98,
                    "Horsepower": 80,
                    "Miles_per_Gallon": 28,
                    "Name": "dodge colt (sw)",
                    "Origin": "USA",
                    "Weight_in_lbs": 2164,
                    "Year": "1972-01-01T00:00:00"
                  },
                  {
                    "Acceleration": 16.5,
                    "Cylinders": 4,
                    "Displacement": 97,
                    "Horsepower": 88,
                    "Miles_per_Gallon": 27,
                    "Name": "toyota corolla 1600 (sw)",
                    "Origin": "Japan",
                    "Weight_in_lbs": 2100,
                    "Year": "1972-01-01T00:00:00"
                  },
                  {
                    "Acceleration": 13,
                    "Cylinders": 8,
                    "Displacement": 350,
                    "Horsepower": 175,
                    "Miles_per_Gallon": 13,
                    "Name": "buick century 350",
                    "Origin": "USA",
                    "Weight_in_lbs": 4100,
                    "Year": "1973-01-01T00:00:00"
                  },
                  {
                    "Acceleration": 11.5,
                    "Cylinders": 8,
                    "Displacement": 304,
                    "Horsepower": 150,
                    "Miles_per_Gallon": 14,
                    "Name": "amc matador",
                    "Origin": "USA",
                    "Weight_in_lbs": 3672,
                    "Year": "1973-01-01T00:00:00"
                  },
                  {
                    "Acceleration": 13,
                    "Cylinders": 8,
                    "Displacement": 350,
                    "Horsepower": 145,
                    "Miles_per_Gallon": 13,
                    "Name": "chevrolet malibu",
                    "Origin": "USA",
                    "Weight_in_lbs": 3988,
                    "Year": "1973-01-01T00:00:00"
                  },
                  {
                    "Acceleration": 14.5,
                    "Cylinders": 8,
                    "Displacement": 302,
                    "Horsepower": 137,
                    "Miles_per_Gallon": 14,
                    "Name": "ford gran torino",
                    "Origin": "USA",
                    "Weight_in_lbs": 4042,
                    "Year": "1973-01-01T00:00:00"
                  },
                  {
                    "Acceleration": 12.5,
                    "Cylinders": 8,
                    "Displacement": 318,
                    "Horsepower": 150,
                    "Miles_per_Gallon": 15,
                    "Name": "dodge coronet custom",
                    "Origin": "USA",
                    "Weight_in_lbs": 3777,
                    "Year": "1973-01-01T00:00:00"
                  },
                  {
                    "Acceleration": 11.5,
                    "Cylinders": 8,
                    "Displacement": 429,
                    "Horsepower": 198,
                    "Miles_per_Gallon": 12,
                    "Name": "mercury marquis brougham",
                    "Origin": "USA",
                    "Weight_in_lbs": 4952,
                    "Year": "1973-01-01T00:00:00"
                  },
                  {
                    "Acceleration": 12,
                    "Cylinders": 8,
                    "Displacement": 400,
                    "Horsepower": 150,
                    "Miles_per_Gallon": 13,
                    "Name": "chevrolet caprice classic",
                    "Origin": "USA",
                    "Weight_in_lbs": 4464,
                    "Year": "1973-01-01T00:00:00"
                  },
                  {
                    "Acceleration": 13,
                    "Cylinders": 8,
                    "Displacement": 351,
                    "Horsepower": 158,
                    "Miles_per_Gallon": 13,
                    "Name": "ford ltd",
                    "Origin": "USA",
                    "Weight_in_lbs": 4363,
                    "Year": "1973-01-01T00:00:00"
                  },
                  {
                    "Acceleration": 14.5,
                    "Cylinders": 8,
                    "Displacement": 318,
                    "Horsepower": 150,
                    "Miles_per_Gallon": 14,
                    "Name": "plymouth fury gran sedan",
                    "Origin": "USA",
                    "Weight_in_lbs": 4237,
                    "Year": "1973-01-01T00:00:00"
                  },
                  {
                    "Acceleration": 11,
                    "Cylinders": 8,
                    "Displacement": 440,
                    "Horsepower": 215,
                    "Miles_per_Gallon": 13,
                    "Name": "chrysler new yorker brougham",
                    "Origin": "USA",
                    "Weight_in_lbs": 4735,
                    "Year": "1973-01-01T00:00:00"
                  },
                  {
                    "Acceleration": 11,
                    "Cylinders": 8,
                    "Displacement": 455,
                    "Horsepower": 225,
                    "Miles_per_Gallon": 12,
                    "Name": "buick electra 225 custom",
                    "Origin": "USA",
                    "Weight_in_lbs": 4951,
                    "Year": "1973-01-01T00:00:00"
                  },
                  {
                    "Acceleration": 11,
                    "Cylinders": 8,
                    "Displacement": 360,
                    "Horsepower": 175,
                    "Miles_per_Gallon": 13,
                    "Name": "amc ambassador brougham",
                    "Origin": "USA",
                    "Weight_in_lbs": 3821,
                    "Year": "1973-01-01T00:00:00"
                  },
                  {
                    "Acceleration": 16.5,
                    "Cylinders": 6,
                    "Displacement": 225,
                    "Horsepower": 105,
                    "Miles_per_Gallon": 18,
                    "Name": "plymouth valiant",
                    "Origin": "USA",
                    "Weight_in_lbs": 3121,
                    "Year": "1973-01-01T00:00:00"
                  },
                  {
                    "Acceleration": 18,
                    "Cylinders": 6,
                    "Displacement": 250,
                    "Horsepower": 100,
                    "Miles_per_Gallon": 16,
                    "Name": "chevrolet nova custom",
                    "Origin": "USA",
                    "Weight_in_lbs": 3278,
                    "Year": "1973-01-01T00:00:00"
                  },
                  {
                    "Acceleration": 16,
                    "Cylinders": 6,
                    "Displacement": 232,
                    "Horsepower": 100,
                    "Miles_per_Gallon": 18,
                    "Name": "amc hornet",
                    "Origin": "USA",
                    "Weight_in_lbs": 2945,
                    "Year": "1973-01-01T00:00:00"
                  },
                  {
                    "Acceleration": 16.5,
                    "Cylinders": 6,
                    "Displacement": 250,
                    "Horsepower": 88,
                    "Miles_per_Gallon": 18,
                    "Name": "ford maverick",
                    "Origin": "USA",
                    "Weight_in_lbs": 3021,
                    "Year": "1973-01-01T00:00:00"
                  },
                  {
                    "Acceleration": 16,
                    "Cylinders": 6,
                    "Displacement": 198,
                    "Horsepower": 95,
                    "Miles_per_Gallon": 23,
                    "Name": "plymouth duster",
                    "Origin": "USA",
                    "Weight_in_lbs": 2904,
                    "Year": "1973-01-01T00:00:00"
                  },
                  {
                    "Acceleration": 21,
                    "Cylinders": 4,
                    "Displacement": 97,
                    "Horsepower": 46,
                    "Miles_per_Gallon": 26,
                    "Name": "volkswagen super beetle",
                    "Origin": "Europe",
                    "Weight_in_lbs": 1950,
                    "Year": "1973-01-01T00:00:00"
                  },
                  {
                    "Acceleration": 14,
                    "Cylinders": 8,
                    "Displacement": 400,
                    "Horsepower": 150,
                    "Miles_per_Gallon": 11,
                    "Name": "chevrolet impala",
                    "Origin": "USA",
                    "Weight_in_lbs": 4997,
                    "Year": "1973-01-01T00:00:00"
                  },
                  {
                    "Acceleration": 12.5,
                    "Cylinders": 8,
                    "Displacement": 400,
                    "Horsepower": 167,
                    "Miles_per_Gallon": 12,
                    "Name": "ford country",
                    "Origin": "USA",
                    "Weight_in_lbs": 4906,
                    "Year": "1973-01-01T00:00:00"
                  },
                  {
                    "Acceleration": 13,
                    "Cylinders": 8,
                    "Displacement": 360,
                    "Horsepower": 170,
                    "Miles_per_Gallon": 13,
                    "Name": "plymouth custom suburb",
                    "Origin": "USA",
                    "Weight_in_lbs": 4654,
                    "Year": "1973-01-01T00:00:00"
                  },
                  {
                    "Acceleration": 12.5,
                    "Cylinders": 8,
                    "Displacement": 350,
                    "Horsepower": 180,
                    "Miles_per_Gallon": 12,
                    "Name": "oldsmobile vista cruiser",
                    "Origin": "USA",
                    "Weight_in_lbs": 4499,
                    "Year": "1973-01-01T00:00:00"
                  },
                  {
                    "Acceleration": 15,
                    "Cylinders": 6,
                    "Displacement": 232,
                    "Horsepower": 100,
                    "Miles_per_Gallon": 18,
                    "Name": "amc gremlin",
                    "Origin": "USA",
                    "Weight_in_lbs": 2789,
                    "Year": "1973-01-01T00:00:00"
                  },
                  {
                    "Acceleration": 19,
                    "Cylinders": 4,
                    "Displacement": 97,
                    "Horsepower": 88,
                    "Miles_per_Gallon": 20,
                    "Name": "toyota carina",
                    "Origin": "Japan",
                    "Weight_in_lbs": 2279,
                    "Year": "1973-01-01T00:00:00"
                  },
                  {
                    "Acceleration": 19.5,
                    "Cylinders": 4,
                    "Displacement": 140,
                    "Horsepower": 72,
                    "Miles_per_Gallon": 21,
                    "Name": "chevrolet vega",
                    "Origin": "USA",
                    "Weight_in_lbs": 2401,
                    "Year": "1973-01-01T00:00:00"
                  },
                  {
                    "Acceleration": 16.5,
                    "Cylinders": 4,
                    "Displacement": 108,
                    "Horsepower": 94,
                    "Miles_per_Gallon": 22,
                    "Name": "datsun 610",
                    "Origin": "Japan",
                    "Weight_in_lbs": 2379,
                    "Year": "1973-01-01T00:00:00"
                  },
                  {
                    "Acceleration": 13.5,
                    "Cylinders": 3,
                    "Displacement": 70,
                    "Horsepower": 90,
                    "Miles_per_Gallon": 18,
                    "Name": "maxda rx3",
                    "Origin": "Japan",
                    "Weight_in_lbs": 2124,
                    "Year": "1973-01-01T00:00:00"
                  },
                  {
                    "Acceleration": 18.5,
                    "Cylinders": 4,
                    "Displacement": 122,
                    "Horsepower": 85,
                    "Miles_per_Gallon": 19,
                    "Name": "ford pinto",
                    "Origin": "USA",
                    "Weight_in_lbs": 2310,
                    "Year": "1973-01-01T00:00:00"
                  },
                  {
                    "Acceleration": 14,
                    "Cylinders": 6,
                    "Displacement": 155,
                    "Horsepower": 107,
                    "Miles_per_Gallon": 21,
                    "Name": "mercury capri v6",
                    "Origin": "USA",
                    "Weight_in_lbs": 2472,
                    "Year": "1973-01-01T00:00:00"
                  },
                  {
                    "Acceleration": 15.5,
                    "Cylinders": 4,
                    "Displacement": 98,
                    "Horsepower": 90,
                    "Miles_per_Gallon": 26,
                    "Name": "fiat 124 sport coupe",
                    "Origin": "Europe",
                    "Weight_in_lbs": 2265,
                    "Year": "1973-01-01T00:00:00"
                  },
                  {
                    "Acceleration": 13,
                    "Cylinders": 8,
                    "Displacement": 350,
                    "Horsepower": 145,
                    "Miles_per_Gallon": 15,
                    "Name": "chevrolet monte carlo s",
                    "Origin": "USA",
                    "Weight_in_lbs": 4082,
                    "Year": "1973-01-01T00:00:00"
                  },
                  {
                    "Acceleration": 9.5,
                    "Cylinders": 8,
                    "Displacement": 400,
                    "Horsepower": 230,
                    "Miles_per_Gallon": 16,
                    "Name": "pontiac grand prix",
                    "Origin": "USA",
                    "Weight_in_lbs": 4278,
                    "Year": "1973-01-01T00:00:00"
                  },
                  {
                    "Acceleration": 19.5,
                    "Cylinders": 4,
                    "Displacement": 68,
                    "Horsepower": 49,
                    "Miles_per_Gallon": 29,
                    "Name": "fiat 128",
                    "Origin": "Europe",
                    "Weight_in_lbs": 1867,
                    "Year": "1973-01-01T00:00:00"
                  },
                  {
                    "Acceleration": 15.5,
                    "Cylinders": 4,
                    "Displacement": 116,
                    "Horsepower": 75,
                    "Miles_per_Gallon": 24,
                    "Name": "opel manta",
                    "Origin": "Europe",
                    "Weight_in_lbs": 2158,
                    "Year": "1973-01-01T00:00:00"
                  },
                  {
                    "Acceleration": 14,
                    "Cylinders": 4,
                    "Displacement": 114,
                    "Horsepower": 91,
                    "Miles_per_Gallon": 20,
                    "Name": "audi 100ls",
                    "Origin": "Europe",
                    "Weight_in_lbs": 2582,
                    "Year": "1973-01-01T00:00:00"
                  },
                  {
                    "Acceleration": 15.5,
                    "Cylinders": 4,
                    "Displacement": 121,
                    "Horsepower": 112,
                    "Miles_per_Gallon": 19,
                    "Name": "volvo 144ea",
                    "Origin": "Europe",
                    "Weight_in_lbs": 2868,
                    "Year": "1973-01-01T00:00:00"
                  },
                  {
                    "Acceleration": 11,
                    "Cylinders": 8,
                    "Displacement": 318,
                    "Horsepower": 150,
                    "Miles_per_Gallon": 15,
                    "Name": "dodge dart custom",
                    "Origin": "USA",
                    "Weight_in_lbs": 3399,
                    "Year": "1973-01-01T00:00:00"
                  },
                  {
                    "Acceleration": 14,
                    "Cylinders": 4,
                    "Displacement": 121,
                    "Horsepower": 110,
                    "Miles_per_Gallon": 24,
                    "Name": "saab 99le",
                    "Origin": "Europe",
                    "Weight_in_lbs": 2660,
                    "Year": "1973-01-01T00:00:00"
                  },
                  {
                    "Acceleration": 13.5,
                    "Cylinders": 6,
                    "Displacement": 156,
                    "Horsepower": 122,
                    "Miles_per_Gallon": 20,
                    "Name": "toyota mark ii",
                    "Origin": "Japan",
                    "Weight_in_lbs": 2807,
                    "Year": "1973-01-01T00:00:00"
                  },
                  {
                    "Acceleration": 11,
                    "Cylinders": 8,
                    "Displacement": 350,
                    "Horsepower": 180,
                    "Miles_per_Gallon": 11,
                    "Name": "oldsmobile omega",
                    "Origin": "USA",
                    "Weight_in_lbs": 3664,
                    "Year": "1973-01-01T00:00:00"
                  },
                  {
                    "Acceleration": 16.5,
                    "Cylinders": 6,
                    "Displacement": 198,
                    "Horsepower": 95,
                    "Miles_per_Gallon": 20,
                    "Name": "plymouth duster",
                    "Origin": "USA",
                    "Weight_in_lbs": 3102,
                    "Year": "1974-01-01T00:00:00"
                  },
                  {
                    "Acceleration": 17,
                    "Cylinders": 6,
                    "Displacement": 200,
                    "Horsepower": null,
                    "Miles_per_Gallon": 21,
                    "Name": "ford maverick",
                    "Origin": "USA",
                    "Weight_in_lbs": 2875,
                    "Year": "1974-01-01T00:00:00"
                  },
                  {
                    "Acceleration": 16,
                    "Cylinders": 6,
                    "Displacement": 232,
                    "Horsepower": 100,
                    "Miles_per_Gallon": 19,
                    "Name": "amc hornet",
                    "Origin": "USA",
                    "Weight_in_lbs": 2901,
                    "Year": "1974-01-01T00:00:00"
                  },
                  {
                    "Acceleration": 17,
                    "Cylinders": 6,
                    "Displacement": 250,
                    "Horsepower": 100,
                    "Miles_per_Gallon": 15,
                    "Name": "chevrolet nova",
                    "Origin": "USA",
                    "Weight_in_lbs": 3336,
                    "Year": "1974-01-01T00:00:00"
                  },
                  {
                    "Acceleration": 19,
                    "Cylinders": 4,
                    "Displacement": 79,
                    "Horsepower": 67,
                    "Miles_per_Gallon": 31,
                    "Name": "datsun b210",
                    "Origin": "Japan",
                    "Weight_in_lbs": 1950,
                    "Year": "1974-01-01T00:00:00"
                  },
                  {
                    "Acceleration": 16.5,
                    "Cylinders": 4,
                    "Displacement": 122,
                    "Horsepower": 80,
                    "Miles_per_Gallon": 26,
                    "Name": "ford pinto",
                    "Origin": "USA",
                    "Weight_in_lbs": 2451,
                    "Year": "1974-01-01T00:00:00"
                  },
                  {
                    "Acceleration": 21,
                    "Cylinders": 4,
                    "Displacement": 71,
                    "Horsepower": 65,
                    "Miles_per_Gallon": 32,
                    "Name": "toyota corolla 1200",
                    "Origin": "Japan",
                    "Weight_in_lbs": 1836,
                    "Year": "1974-01-01T00:00:00"
                  },
                  {
                    "Acceleration": 17,
                    "Cylinders": 4,
                    "Displacement": 140,
                    "Horsepower": 75,
                    "Miles_per_Gallon": 25,
                    "Name": "chevrolet vega",
                    "Origin": "USA",
                    "Weight_in_lbs": 2542,
                    "Year": "1974-01-01T00:00:00"
                  },
                  {
                    "Acceleration": 17,
                    "Cylinders": 6,
                    "Displacement": 250,
                    "Horsepower": 100,
                    "Miles_per_Gallon": 16,
                    "Name": "chevrolet chevelle malibu classic",
                    "Origin": "USA",
                    "Weight_in_lbs": 3781,
                    "Year": "1974-01-01T00:00:00"
                  },
                  {
                    "Acceleration": 18,
                    "Cylinders": 6,
                    "Displacement": 258,
                    "Horsepower": 110,
                    "Miles_per_Gallon": 16,
                    "Name": "amc matador",
                    "Origin": "USA",
                    "Weight_in_lbs": 3632,
                    "Year": "1974-01-01T00:00:00"
                  },
                  {
                    "Acceleration": 16.5,
                    "Cylinders": 6,
                    "Displacement": 225,
                    "Horsepower": 105,
                    "Miles_per_Gallon": 18,
                    "Name": "plymouth satellite sebring",
                    "Origin": "USA",
                    "Weight_in_lbs": 3613,
                    "Year": "1974-01-01T00:00:00"
                  },
                  {
                    "Acceleration": 14,
                    "Cylinders": 8,
                    "Displacement": 302,
                    "Horsepower": 140,
                    "Miles_per_Gallon": 16,
                    "Name": "ford gran torino",
                    "Origin": "USA",
                    "Weight_in_lbs": 4141,
                    "Year": "1974-01-01T00:00:00"
                  },
                  {
                    "Acceleration": 14.5,
                    "Cylinders": 8,
                    "Displacement": 350,
                    "Horsepower": 150,
                    "Miles_per_Gallon": 13,
                    "Name": "buick century luxus (sw)",
                    "Origin": "USA",
                    "Weight_in_lbs": 4699,
                    "Year": "1974-01-01T00:00:00"
                  },
                  {
                    "Acceleration": 13.5,
                    "Cylinders": 8,
                    "Displacement": 318,
                    "Horsepower": 150,
                    "Miles_per_Gallon": 14,
                    "Name": "dodge coronet custom (sw)",
                    "Origin": "USA",
                    "Weight_in_lbs": 4457,
                    "Year": "1974-01-01T00:00:00"
                  },
                  {
                    "Acceleration": 16,
                    "Cylinders": 8,
                    "Displacement": 302,
                    "Horsepower": 140,
                    "Miles_per_Gallon": 14,
                    "Name": "ford gran torino (sw)",
                    "Origin": "USA",
                    "Weight_in_lbs": 4638,
                    "Year": "1974-01-01T00:00:00"
                  },
                  {
                    "Acceleration": 15.5,
                    "Cylinders": 8,
                    "Displacement": 304,
                    "Horsepower": 150,
                    "Miles_per_Gallon": 14,
                    "Name": "amc matador (sw)",
                    "Origin": "USA",
                    "Weight_in_lbs": 4257,
                    "Year": "1974-01-01T00:00:00"
                  },
                  {
                    "Acceleration": 16.5,
                    "Cylinders": 4,
                    "Displacement": 98,
                    "Horsepower": 83,
                    "Miles_per_Gallon": 29,
                    "Name": "audi fox",
                    "Origin": "Europe",
                    "Weight_in_lbs": 2219,
                    "Year": "1974-01-01T00:00:00"
                  },
                  {
                    "Acceleration": 15.5,
                    "Cylinders": 4,
                    "Displacement": 79,
                    "Horsepower": 67,
                    "Miles_per_Gallon": 26,
                    "Name": "volkswagen dasher",
                    "Origin": "Europe",
                    "Weight_in_lbs": 1963,
                    "Year": "1974-01-01T00:00:00"
                  },
                  {
                    "Acceleration": 14.5,
                    "Cylinders": 4,
                    "Displacement": 97,
                    "Horsepower": 78,
                    "Miles_per_Gallon": 26,
                    "Name": "opel manta",
                    "Origin": "Europe",
                    "Weight_in_lbs": 2300,
                    "Year": "1974-01-01T00:00:00"
                  },
                  {
                    "Acceleration": 16.5,
                    "Cylinders": 4,
                    "Displacement": 76,
                    "Horsepower": 52,
                    "Miles_per_Gallon": 31,
                    "Name": "toyota corona",
                    "Origin": "Japan",
                    "Weight_in_lbs": 1649,
                    "Year": "1974-01-01T00:00:00"
                  },
                  {
                    "Acceleration": 19,
                    "Cylinders": 4,
                    "Displacement": 83,
                    "Horsepower": 61,
                    "Miles_per_Gallon": 32,
                    "Name": "datsun 710",
                    "Origin": "Japan",
                    "Weight_in_lbs": 2003,
                    "Year": "1974-01-01T00:00:00"
                  },
                  {
                    "Acceleration": 14.5,
                    "Cylinders": 4,
                    "Displacement": 90,
                    "Horsepower": 75,
                    "Miles_per_Gallon": 28,
                    "Name": "dodge colt",
                    "Origin": "USA",
                    "Weight_in_lbs": 2125,
                    "Year": "1974-01-01T00:00:00"
                  },
                  {
                    "Acceleration": 15.5,
                    "Cylinders": 4,
                    "Displacement": 90,
                    "Horsepower": 75,
                    "Miles_per_Gallon": 24,
                    "Name": "fiat 128",
                    "Origin": "Europe",
                    "Weight_in_lbs": 2108,
                    "Year": "1974-01-01T00:00:00"
                  },
                  {
                    "Acceleration": 14,
                    "Cylinders": 4,
                    "Displacement": 116,
                    "Horsepower": 75,
                    "Miles_per_Gallon": 26,
                    "Name": "fiat 124 tc",
                    "Origin": "Europe",
                    "Weight_in_lbs": 2246,
                    "Year": "1974-01-01T00:00:00"
                  },
                  {
                    "Acceleration": 15,
                    "Cylinders": 4,
                    "Displacement": 120,
                    "Horsepower": 97,
                    "Miles_per_Gallon": 24,
                    "Name": "honda civic",
                    "Origin": "Japan",
                    "Weight_in_lbs": 2489,
                    "Year": "1974-01-01T00:00:00"
                  },
                  {
                    "Acceleration": 15.5,
                    "Cylinders": 4,
                    "Displacement": 108,
                    "Horsepower": 93,
                    "Miles_per_Gallon": 26,
                    "Name": "subaru",
                    "Origin": "Japan",
                    "Weight_in_lbs": 2391,
                    "Year": "1974-01-01T00:00:00"
                  },
                  {
                    "Acceleration": 16,
                    "Cylinders": 4,
                    "Displacement": 79,
                    "Horsepower": 67,
                    "Miles_per_Gallon": 31,
                    "Name": "fiat x1.9",
                    "Origin": "Europe",
                    "Weight_in_lbs": 2000,
                    "Year": "1974-01-01T00:00:00"
                  },
                  {
                    "Acceleration": 16,
                    "Cylinders": 6,
                    "Displacement": 225,
                    "Horsepower": 95,
                    "Miles_per_Gallon": 19,
                    "Name": "plymouth valiant custom",
                    "Origin": "USA",
                    "Weight_in_lbs": 3264,
                    "Year": "1975-01-01T00:00:00"
                  },
                  {
                    "Acceleration": 16,
                    "Cylinders": 6,
                    "Displacement": 250,
                    "Horsepower": 105,
                    "Miles_per_Gallon": 18,
                    "Name": "chevrolet nova",
                    "Origin": "USA",
                    "Weight_in_lbs": 3459,
                    "Year": "1975-01-01T00:00:00"
                  },
                  {
                    "Acceleration": 21,
                    "Cylinders": 6,
                    "Displacement": 250,
                    "Horsepower": 72,
                    "Miles_per_Gallon": 15,
                    "Name": "mercury monarch",
                    "Origin": "USA",
                    "Weight_in_lbs": 3432,
                    "Year": "1975-01-01T00:00:00"
                  },
                  {
                    "Acceleration": 19.5,
                    "Cylinders": 6,
                    "Displacement": 250,
                    "Horsepower": 72,
                    "Miles_per_Gallon": 15,
                    "Name": "ford maverick",
                    "Origin": "USA",
                    "Weight_in_lbs": 3158,
                    "Year": "1975-01-01T00:00:00"
                  },
                  {
                    "Acceleration": 11.5,
                    "Cylinders": 8,
                    "Displacement": 400,
                    "Horsepower": 170,
                    "Miles_per_Gallon": 16,
                    "Name": "pontiac catalina",
                    "Origin": "USA",
                    "Weight_in_lbs": 4668,
                    "Year": "1975-01-01T00:00:00"
                  },
                  {
                    "Acceleration": 14,
                    "Cylinders": 8,
                    "Displacement": 350,
                    "Horsepower": 145,
                    "Miles_per_Gallon": 15,
                    "Name": "chevrolet bel air",
                    "Origin": "USA",
                    "Weight_in_lbs": 4440,
                    "Year": "1975-01-01T00:00:00"
                  },
                  {
                    "Acceleration": 14.5,
                    "Cylinders": 8,
                    "Displacement": 318,
                    "Horsepower": 150,
                    "Miles_per_Gallon": 16,
                    "Name": "plymouth grand fury",
                    "Origin": "USA",
                    "Weight_in_lbs": 4498,
                    "Year": "1975-01-01T00:00:00"
                  },
                  {
                    "Acceleration": 13.5,
                    "Cylinders": 8,
                    "Displacement": 351,
                    "Horsepower": 148,
                    "Miles_per_Gallon": 14,
                    "Name": "ford ltd",
                    "Origin": "USA",
                    "Weight_in_lbs": 4657,
                    "Year": "1975-01-01T00:00:00"
                  },
                  {
                    "Acceleration": 21,
                    "Cylinders": 6,
                    "Displacement": 231,
                    "Horsepower": 110,
                    "Miles_per_Gallon": 17,
                    "Name": "buick century",
                    "Origin": "USA",
                    "Weight_in_lbs": 3907,
                    "Year": "1975-01-01T00:00:00"
                  },
                  {
                    "Acceleration": 18.5,
                    "Cylinders": 6,
                    "Displacement": 250,
                    "Horsepower": 105,
                    "Miles_per_Gallon": 16,
                    "Name": "chevroelt chevelle malibu",
                    "Origin": "USA",
                    "Weight_in_lbs": 3897,
                    "Year": "1975-01-01T00:00:00"
                  },
                  {
                    "Acceleration": 19,
                    "Cylinders": 6,
                    "Displacement": 258,
                    "Horsepower": 110,
                    "Miles_per_Gallon": 15,
                    "Name": "amc matador",
                    "Origin": "USA",
                    "Weight_in_lbs": 3730,
                    "Year": "1975-01-01T00:00:00"
                  },
                  {
                    "Acceleration": 19,
                    "Cylinders": 6,
                    "Displacement": 225,
                    "Horsepower": 95,
                    "Miles_per_Gallon": 18,
                    "Name": "plymouth fury",
                    "Origin": "USA",
                    "Weight_in_lbs": 3785,
                    "Year": "1975-01-01T00:00:00"
                  },
                  {
                    "Acceleration": 15,
                    "Cylinders": 6,
                    "Displacement": 231,
                    "Horsepower": 110,
                    "Miles_per_Gallon": 21,
                    "Name": "buick skyhawk",
                    "Origin": "USA",
                    "Weight_in_lbs": 3039,
                    "Year": "1975-01-01T00:00:00"
                  },
                  {
                    "Acceleration": 13.5,
                    "Cylinders": 8,
                    "Displacement": 262,
                    "Horsepower": 110,
                    "Miles_per_Gallon": 20,
                    "Name": "chevrolet monza 2+2",
                    "Origin": "USA",
                    "Weight_in_lbs": 3221,
                    "Year": "1975-01-01T00:00:00"
                  },
                  {
                    "Acceleration": 12,
                    "Cylinders": 8,
                    "Displacement": 302,
                    "Horsepower": 129,
                    "Miles_per_Gallon": 13,
                    "Name": "ford mustang ii",
                    "Origin": "USA",
                    "Weight_in_lbs": 3169,
                    "Year": "1975-01-01T00:00:00"
                  },
                  {
                    "Acceleration": 16,
                    "Cylinders": 4,
                    "Displacement": 97,
                    "Horsepower": 75,
                    "Miles_per_Gallon": 29,
                    "Name": "toyota corolla",
                    "Origin": "Japan",
                    "Weight_in_lbs": 2171,
                    "Year": "1975-01-01T00:00:00"
                  },
                  {
                    "Acceleration": 17,
                    "Cylinders": 4,
                    "Displacement": 140,
                    "Horsepower": 83,
                    "Miles_per_Gallon": 23,
                    "Name": "ford pinto",
                    "Origin": "USA",
                    "Weight_in_lbs": 2639,
                    "Year": "1975-01-01T00:00:00"
                  },
                  {
                    "Acceleration": 16,
                    "Cylinders": 6,
                    "Displacement": 232,
                    "Horsepower": 100,
                    "Miles_per_Gallon": 20,
                    "Name": "amc gremlin",
                    "Origin": "USA",
                    "Weight_in_lbs": 2914,
                    "Year": "1975-01-01T00:00:00"
                  },
                  {
                    "Acceleration": 18.5,
                    "Cylinders": 4,
                    "Displacement": 140,
                    "Horsepower": 78,
                    "Miles_per_Gallon": 23,
                    "Name": "pontiac astro",
                    "Origin": "USA",
                    "Weight_in_lbs": 2592,
                    "Year": "1975-01-01T00:00:00"
                  },
                  {
                    "Acceleration": 13.5,
                    "Cylinders": 4,
                    "Displacement": 134,
                    "Horsepower": 96,
                    "Miles_per_Gallon": 24,
                    "Name": "toyota corona",
                    "Origin": "Japan",
                    "Weight_in_lbs": 2702,
                    "Year": "1975-01-01T00:00:00"
                  },
                  {
                    "Acceleration": 16.5,
                    "Cylinders": 4,
                    "Displacement": 90,
                    "Horsepower": 71,
                    "Miles_per_Gallon": 25,
                    "Name": "volkswagen dasher",
                    "Origin": "Europe",
                    "Weight_in_lbs": 2223,
                    "Year": "1975-01-01T00:00:00"
                  },
                  {
                    "Acceleration": 17,
                    "Cylinders": 4,
                    "Displacement": 119,
                    "Horsepower": 97,
                    "Miles_per_Gallon": 24,
                    "Name": "datsun 710",
                    "Origin": "Japan",
                    "Weight_in_lbs": 2545,
                    "Year": "1975-01-01T00:00:00"
                  },
                  {
                    "Acceleration": 14.5,
                    "Cylinders": 6,
                    "Displacement": 171,
                    "Horsepower": 97,
                    "Miles_per_Gallon": 18,
                    "Name": "ford pinto",
                    "Origin": "USA",
                    "Weight_in_lbs": 2984,
                    "Year": "1975-01-01T00:00:00"
                  },
                  {
                    "Acceleration": 14,
                    "Cylinders": 4,
                    "Displacement": 90,
                    "Horsepower": 70,
                    "Miles_per_Gallon": 29,
                    "Name": "volkswagen rabbit",
                    "Origin": "Europe",
                    "Weight_in_lbs": 1937,
                    "Year": "1975-01-01T00:00:00"
                  },
                  {
                    "Acceleration": 17,
                    "Cylinders": 6,
                    "Displacement": 232,
                    "Horsepower": 90,
                    "Miles_per_Gallon": 19,
                    "Name": "amc pacer",
                    "Origin": "USA",
                    "Weight_in_lbs": 3211,
                    "Year": "1975-01-01T00:00:00"
                  },
                  {
                    "Acceleration": 15,
                    "Cylinders": 4,
                    "Displacement": 115,
                    "Horsepower": 95,
                    "Miles_per_Gallon": 23,
                    "Name": "audi 100ls",
                    "Origin": "Europe",
                    "Weight_in_lbs": 2694,
                    "Year": "1975-01-01T00:00:00"
                  },
                  {
                    "Acceleration": 17,
                    "Cylinders": 4,
                    "Displacement": 120,
                    "Horsepower": 88,
                    "Miles_per_Gallon": 23,
                    "Name": "peugeot 504",
                    "Origin": "Europe",
                    "Weight_in_lbs": 2957,
                    "Year": "1975-01-01T00:00:00"
                  },
                  {
                    "Acceleration": 14.5,
                    "Cylinders": 4,
                    "Displacement": 121,
                    "Horsepower": 98,
                    "Miles_per_Gallon": 22,
                    "Name": "volvo 244dl",
                    "Origin": "Europe",
                    "Weight_in_lbs": 2945,
                    "Year": "1975-01-01T00:00:00"
                  },
                  {
                    "Acceleration": 13.5,
                    "Cylinders": 4,
                    "Displacement": 121,
                    "Horsepower": 115,
                    "Miles_per_Gallon": 25,
                    "Name": "saab 99le",
                    "Origin": "Europe",
                    "Weight_in_lbs": 2671,
                    "Year": "1975-01-01T00:00:00"
                  },
                  {
                    "Acceleration": 17.5,
                    "Cylinders": 4,
                    "Displacement": 91,
                    "Horsepower": 53,
                    "Miles_per_Gallon": 33,
                    "Name": "honda civic cvcc",
                    "Origin": "Japan",
                    "Weight_in_lbs": 1795,
                    "Year": "1975-01-01T00:00:00"
                  },
                  {
                    "Acceleration": 15.5,
                    "Cylinders": 4,
                    "Displacement": 107,
                    "Horsepower": 86,
                    "Miles_per_Gallon": 28,
                    "Name": "fiat 131",
                    "Origin": "Europe",
                    "Weight_in_lbs": 2464,
                    "Year": "1976-01-01T00:00:00"
                  },
                  {
                    "Acceleration": 16.9,
                    "Cylinders": 4,
                    "Displacement": 116,
                    "Horsepower": 81,
                    "Miles_per_Gallon": 25,
                    "Name": "opel 1900",
                    "Origin": "Europe",
                    "Weight_in_lbs": 2220,
                    "Year": "1976-01-01T00:00:00"
                  },
                  {
                    "Acceleration": 14.9,
                    "Cylinders": 4,
                    "Displacement": 140,
                    "Horsepower": 92,
                    "Miles_per_Gallon": 25,
                    "Name": "capri ii",
                    "Origin": "USA",
                    "Weight_in_lbs": 2572,
                    "Year": "1976-01-01T00:00:00"
                  },
                  {
                    "Acceleration": 17.7,
                    "Cylinders": 4,
                    "Displacement": 98,
                    "Horsepower": 79,
                    "Miles_per_Gallon": 26,
                    "Name": "dodge colt",
                    "Origin": "USA",
                    "Weight_in_lbs": 2255,
                    "Year": "1976-01-01T00:00:00"
                  },
                  {
                    "Acceleration": 15.3,
                    "Cylinders": 4,
                    "Displacement": 101,
                    "Horsepower": 83,
                    "Miles_per_Gallon": 27,
                    "Name": "renault 12tl",
                    "Origin": "Europe",
                    "Weight_in_lbs": 2202,
                    "Year": "1976-01-01T00:00:00"
                  },
                  {
                    "Acceleration": 13,
                    "Cylinders": 8,
                    "Displacement": 305,
                    "Horsepower": 140,
                    "Miles_per_Gallon": 17.5,
                    "Name": "chevrolet chevelle malibu classic",
                    "Origin": "USA",
                    "Weight_in_lbs": 4215,
                    "Year": "1976-01-01T00:00:00"
                  },
                  {
                    "Acceleration": 13,
                    "Cylinders": 8,
                    "Displacement": 318,
                    "Horsepower": 150,
                    "Miles_per_Gallon": 16,
                    "Name": "dodge coronet brougham",
                    "Origin": "USA",
                    "Weight_in_lbs": 4190,
                    "Year": "1976-01-01T00:00:00"
                  },
                  {
                    "Acceleration": 13.9,
                    "Cylinders": 8,
                    "Displacement": 304,
                    "Horsepower": 120,
                    "Miles_per_Gallon": 15.5,
                    "Name": "amc matador",
                    "Origin": "USA",
                    "Weight_in_lbs": 3962,
                    "Year": "1976-01-01T00:00:00"
                  },
                  {
                    "Acceleration": 12.8,
                    "Cylinders": 8,
                    "Displacement": 351,
                    "Horsepower": 152,
                    "Miles_per_Gallon": 14.5,
                    "Name": "ford gran torino",
                    "Origin": "USA",
                    "Weight_in_lbs": 4215,
                    "Year": "1976-01-01T00:00:00"
                  },
                  {
                    "Acceleration": 15.4,
                    "Cylinders": 6,
                    "Displacement": 225,
                    "Horsepower": 100,
                    "Miles_per_Gallon": 22,
                    "Name": "plymouth valiant",
                    "Origin": "USA",
                    "Weight_in_lbs": 3233,
                    "Year": "1976-01-01T00:00:00"
                  },
                  {
                    "Acceleration": 14.5,
                    "Cylinders": 6,
                    "Displacement": 250,
                    "Horsepower": 105,
                    "Miles_per_Gallon": 22,
                    "Name": "chevrolet nova",
                    "Origin": "USA",
                    "Weight_in_lbs": 3353,
                    "Year": "1976-01-01T00:00:00"
                  },
                  {
                    "Acceleration": 17.6,
                    "Cylinders": 6,
                    "Displacement": 200,
                    "Horsepower": 81,
                    "Miles_per_Gallon": 24,
                    "Name": "ford maverick",
                    "Origin": "USA",
                    "Weight_in_lbs": 3012,
                    "Year": "1976-01-01T00:00:00"
                  },
                  {
                    "Acceleration": 17.6,
                    "Cylinders": 6,
                    "Displacement": 232,
                    "Horsepower": 90,
                    "Miles_per_Gallon": 22.5,
                    "Name": "amc hornet",
                    "Origin": "USA",
                    "Weight_in_lbs": 3085,
                    "Year": "1976-01-01T00:00:00"
                  },
                  {
                    "Acceleration": 22.2,
                    "Cylinders": 4,
                    "Displacement": 85,
                    "Horsepower": 52,
                    "Miles_per_Gallon": 29,
                    "Name": "chevrolet chevette",
                    "Origin": "USA",
                    "Weight_in_lbs": 2035,
                    "Year": "1976-01-01T00:00:00"
                  },
                  {
                    "Acceleration": 22.1,
                    "Cylinders": 4,
                    "Displacement": 98,
                    "Horsepower": 60,
                    "Miles_per_Gallon": 24.5,
                    "Name": "chevrolet woody",
                    "Origin": "USA",
                    "Weight_in_lbs": 2164,
                    "Year": "1976-01-01T00:00:00"
                  },
                  {
                    "Acceleration": 14.2,
                    "Cylinders": 4,
                    "Displacement": 90,
                    "Horsepower": 70,
                    "Miles_per_Gallon": 29,
                    "Name": "vw rabbit",
                    "Origin": "Europe",
                    "Weight_in_lbs": 1937,
                    "Year": "1976-01-01T00:00:00"
                  },
                  {
                    "Acceleration": 17.4,
                    "Cylinders": 4,
                    "Displacement": 91,
                    "Horsepower": 53,
                    "Miles_per_Gallon": 33,
                    "Name": "honda civic",
                    "Origin": "Japan",
                    "Weight_in_lbs": 1795,
                    "Year": "1976-01-01T00:00:00"
                  },
                  {
                    "Acceleration": 17.7,
                    "Cylinders": 6,
                    "Displacement": 225,
                    "Horsepower": 100,
                    "Miles_per_Gallon": 20,
                    "Name": "dodge aspen se",
                    "Origin": "USA",
                    "Weight_in_lbs": 3651,
                    "Year": "1976-01-01T00:00:00"
                  },
                  {
                    "Acceleration": 21,
                    "Cylinders": 6,
                    "Displacement": 250,
                    "Horsepower": 78,
                    "Miles_per_Gallon": 18,
                    "Name": "ford granada ghia",
                    "Origin": "USA",
                    "Weight_in_lbs": 3574,
                    "Year": "1976-01-01T00:00:00"
                  },
                  {
                    "Acceleration": 16.2,
                    "Cylinders": 6,
                    "Displacement": 250,
                    "Horsepower": 110,
                    "Miles_per_Gallon": 18.5,
                    "Name": "pontiac ventura sj",
                    "Origin": "USA",
                    "Weight_in_lbs": 3645,
                    "Year": "1976-01-01T00:00:00"
                  },
                  {
                    "Acceleration": 17.8,
                    "Cylinders": 6,
                    "Displacement": 258,
                    "Horsepower": 95,
                    "Miles_per_Gallon": 17.5,
                    "Name": "amc pacer d/l",
                    "Origin": "USA",
                    "Weight_in_lbs": 3193,
                    "Year": "1976-01-01T00:00:00"
                  },
                  {
                    "Acceleration": 12.2,
                    "Cylinders": 4,
                    "Displacement": 97,
                    "Horsepower": 71,
                    "Miles_per_Gallon": 29.5,
                    "Name": "volkswagen rabbit",
                    "Origin": "Europe",
                    "Weight_in_lbs": 1825,
                    "Year": "1976-01-01T00:00:00"
                  },
                  {
                    "Acceleration": 17,
                    "Cylinders": 4,
                    "Displacement": 85,
                    "Horsepower": 70,
                    "Miles_per_Gallon": 32,
                    "Name": "datsun b-210",
                    "Origin": "Japan",
                    "Weight_in_lbs": 1990,
                    "Year": "1976-01-01T00:00:00"
                  },
                  {
                    "Acceleration": 16.4,
                    "Cylinders": 4,
                    "Displacement": 97,
                    "Horsepower": 75,
                    "Miles_per_Gallon": 28,
                    "Name": "toyota corolla",
                    "Origin": "Japan",
                    "Weight_in_lbs": 2155,
                    "Year": "1976-01-01T00:00:00"
                  },
                  {
                    "Acceleration": 13.6,
                    "Cylinders": 4,
                    "Displacement": 140,
                    "Horsepower": 72,
                    "Miles_per_Gallon": 26.5,
                    "Name": "ford pinto",
                    "Origin": "USA",
                    "Weight_in_lbs": 2565,
                    "Year": "1976-01-01T00:00:00"
                  },
                  {
                    "Acceleration": 15.7,
                    "Cylinders": 4,
                    "Displacement": 130,
                    "Horsepower": 102,
                    "Miles_per_Gallon": 20,
                    "Name": "volvo 245",
                    "Origin": "Europe",
                    "Weight_in_lbs": 3150,
                    "Year": "1976-01-01T00:00:00"
                  },
                  {
                    "Acceleration": 13.2,
                    "Cylinders": 8,
                    "Displacement": 318,
                    "Horsepower": 150,
                    "Miles_per_Gallon": 13,
                    "Name": "plymouth volare premier v8",
                    "Origin": "USA",
                    "Weight_in_lbs": 3940,
                    "Year": "1976-01-01T00:00:00"
                  },
                  {
                    "Acceleration": 21.9,
                    "Cylinders": 4,
                    "Displacement": 120,
                    "Horsepower": 88,
                    "Miles_per_Gallon": 19,
                    "Name": "peugeot 504",
                    "Origin": "Europe",
                    "Weight_in_lbs": 3270,
                    "Year": "1976-01-01T00:00:00"
                  },
                  {
                    "Acceleration": 15.5,
                    "Cylinders": 6,
                    "Displacement": 156,
                    "Horsepower": 108,
                    "Miles_per_Gallon": 19,
                    "Name": "toyota mark ii",
                    "Origin": "Japan",
                    "Weight_in_lbs": 2930,
                    "Year": "1976-01-01T00:00:00"
                  },
                  {
                    "Acceleration": 16.7,
                    "Cylinders": 6,
                    "Displacement": 168,
                    "Horsepower": 120,
                    "Miles_per_Gallon": 16.5,
                    "Name": "mercedes-benz 280s",
                    "Origin": "Europe",
                    "Weight_in_lbs": 3820,
                    "Year": "1976-01-01T00:00:00"
                  },
                  {
                    "Acceleration": 12.1,
                    "Cylinders": 8,
                    "Displacement": 350,
                    "Horsepower": 180,
                    "Miles_per_Gallon": 16.5,
                    "Name": "cadillac seville",
                    "Origin": "USA",
                    "Weight_in_lbs": 4380,
                    "Year": "1976-01-01T00:00:00"
                  },
                  {
                    "Acceleration": 12,
                    "Cylinders": 8,
                    "Displacement": 350,
                    "Horsepower": 145,
                    "Miles_per_Gallon": 13,
                    "Name": "chevy c10",
                    "Origin": "USA",
                    "Weight_in_lbs": 4055,
                    "Year": "1976-01-01T00:00:00"
                  },
                  {
                    "Acceleration": 15,
                    "Cylinders": 8,
                    "Displacement": 302,
                    "Horsepower": 130,
                    "Miles_per_Gallon": 13,
                    "Name": "ford f108",
                    "Origin": "USA",
                    "Weight_in_lbs": 3870,
                    "Year": "1976-01-01T00:00:00"
                  },
                  {
                    "Acceleration": 14,
                    "Cylinders": 8,
                    "Displacement": 318,
                    "Horsepower": 150,
                    "Miles_per_Gallon": 13,
                    "Name": "dodge d100",
                    "Origin": "USA",
                    "Weight_in_lbs": 3755,
                    "Year": "1976-01-01T00:00:00"
                  },
                  {
                    "Acceleration": 18.5,
                    "Cylinders": 4,
                    "Displacement": 98,
                    "Horsepower": 68,
                    "Miles_per_Gallon": 31.5,
                    "Name": "honda Accelerationord cvcc",
                    "Origin": "Japan",
                    "Weight_in_lbs": 2045,
                    "Year": "1977-01-01T00:00:00"
                  },
                  {
                    "Acceleration": 14.8,
                    "Cylinders": 4,
                    "Displacement": 111,
                    "Horsepower": 80,
                    "Miles_per_Gallon": 30,
                    "Name": "buick opel isuzu deluxe",
                    "Origin": "USA",
                    "Weight_in_lbs": 2155,
                    "Year": "1977-01-01T00:00:00"
                  },
                  {
                    "Acceleration": 18.6,
                    "Cylinders": 4,
                    "Displacement": 79,
                    "Horsepower": 58,
                    "Miles_per_Gallon": 36,
                    "Name": "renault 5 gtl",
                    "Origin": "Europe",
                    "Weight_in_lbs": 1825,
                    "Year": "1977-01-01T00:00:00"
                  },
                  {
                    "Acceleration": 15.5,
                    "Cylinders": 4,
                    "Displacement": 122,
                    "Horsepower": 96,
                    "Miles_per_Gallon": 25.5,
                    "Name": "plymouth arrow gs",
                    "Origin": "USA",
                    "Weight_in_lbs": 2300,
                    "Year": "1977-01-01T00:00:00"
                  },
                  {
                    "Acceleration": 16.8,
                    "Cylinders": 4,
                    "Displacement": 85,
                    "Horsepower": 70,
                    "Miles_per_Gallon": 33.5,
                    "Name": "datsun f-10 hatchback",
                    "Origin": "Japan",
                    "Weight_in_lbs": 1945,
                    "Year": "1977-01-01T00:00:00"
                  },
                  {
                    "Acceleration": 12.5,
                    "Cylinders": 8,
                    "Displacement": 305,
                    "Horsepower": 145,
                    "Miles_per_Gallon": 17.5,
                    "Name": "chevrolet caprice classic",
                    "Origin": "USA",
                    "Weight_in_lbs": 3880,
                    "Year": "1977-01-01T00:00:00"
                  },
                  {
                    "Acceleration": 19,
                    "Cylinders": 8,
                    "Displacement": 260,
                    "Horsepower": 110,
                    "Miles_per_Gallon": 17,
                    "Name": "oldsmobile cutlass supreme",
                    "Origin": "USA",
                    "Weight_in_lbs": 4060,
                    "Year": "1977-01-01T00:00:00"
                  },
                  {
                    "Acceleration": 13.7,
                    "Cylinders": 8,
                    "Displacement": 318,
                    "Horsepower": 145,
                    "Miles_per_Gallon": 15.5,
                    "Name": "dodge monaco brougham",
                    "Origin": "USA",
                    "Weight_in_lbs": 4140,
                    "Year": "1977-01-01T00:00:00"
                  },
                  {
                    "Acceleration": 14.9,
                    "Cylinders": 8,
                    "Displacement": 302,
                    "Horsepower": 130,
                    "Miles_per_Gallon": 15,
                    "Name": "mercury cougar brougham",
                    "Origin": "USA",
                    "Weight_in_lbs": 4295,
                    "Year": "1977-01-01T00:00:00"
                  },
                  {
                    "Acceleration": 16.4,
                    "Cylinders": 6,
                    "Displacement": 250,
                    "Horsepower": 110,
                    "Miles_per_Gallon": 17.5,
                    "Name": "chevrolet concours",
                    "Origin": "USA",
                    "Weight_in_lbs": 3520,
                    "Year": "1977-01-01T00:00:00"
                  },
                  {
                    "Acceleration": 16.9,
                    "Cylinders": 6,
                    "Displacement": 231,
                    "Horsepower": 105,
                    "Miles_per_Gallon": 20.5,
                    "Name": "buick skylark",
                    "Origin": "USA",
                    "Weight_in_lbs": 3425,
                    "Year": "1977-01-01T00:00:00"
                  },
                  {
                    "Acceleration": 17.7,
                    "Cylinders": 6,
                    "Displacement": 225,
                    "Horsepower": 100,
                    "Miles_per_Gallon": 19,
                    "Name": "plymouth volare custom",
                    "Origin": "USA",
                    "Weight_in_lbs": 3630,
                    "Year": "1977-01-01T00:00:00"
                  },
                  {
                    "Acceleration": 19,
                    "Cylinders": 6,
                    "Displacement": 250,
                    "Horsepower": 98,
                    "Miles_per_Gallon": 18.5,
                    "Name": "ford granada",
                    "Origin": "USA",
                    "Weight_in_lbs": 3525,
                    "Year": "1977-01-01T00:00:00"
                  },
                  {
                    "Acceleration": 11.1,
                    "Cylinders": 8,
                    "Displacement": 400,
                    "Horsepower": 180,
                    "Miles_per_Gallon": 16,
                    "Name": "pontiac grand prix lj",
                    "Origin": "USA",
                    "Weight_in_lbs": 4220,
                    "Year": "1977-01-01T00:00:00"
                  },
                  {
                    "Acceleration": 11.4,
                    "Cylinders": 8,
                    "Displacement": 350,
                    "Horsepower": 170,
                    "Miles_per_Gallon": 15.5,
                    "Name": "chevrolet monte carlo landau",
                    "Origin": "USA",
                    "Weight_in_lbs": 4165,
                    "Year": "1977-01-01T00:00:00"
                  },
                  {
                    "Acceleration": 12.2,
                    "Cylinders": 8,
                    "Displacement": 400,
                    "Horsepower": 190,
                    "Miles_per_Gallon": 15.5,
                    "Name": "chrysler cordoba",
                    "Origin": "USA",
                    "Weight_in_lbs": 4325,
                    "Year": "1977-01-01T00:00:00"
                  },
                  {
                    "Acceleration": 14.5,
                    "Cylinders": 8,
                    "Displacement": 351,
                    "Horsepower": 149,
                    "Miles_per_Gallon": 16,
                    "Name": "ford thunderbird",
                    "Origin": "USA",
                    "Weight_in_lbs": 4335,
                    "Year": "1977-01-01T00:00:00"
                  },
                  {
                    "Acceleration": 14.5,
                    "Cylinders": 4,
                    "Displacement": 97,
                    "Horsepower": 78,
                    "Miles_per_Gallon": 29,
                    "Name": "volkswagen rabbit custom",
                    "Origin": "Europe",
                    "Weight_in_lbs": 1940,
                    "Year": "1977-01-01T00:00:00"
                  },
                  {
                    "Acceleration": 16,
                    "Cylinders": 4,
                    "Displacement": 151,
                    "Horsepower": 88,
                    "Miles_per_Gallon": 24.5,
                    "Name": "pontiac sunbird coupe",
                    "Origin": "USA",
                    "Weight_in_lbs": 2740,
                    "Year": "1977-01-01T00:00:00"
                  },
                  {
                    "Acceleration": 18.2,
                    "Cylinders": 4,
                    "Displacement": 97,
                    "Horsepower": 75,
                    "Miles_per_Gallon": 26,
                    "Name": "toyota corolla liftback",
                    "Origin": "Japan",
                    "Weight_in_lbs": 2265,
                    "Year": "1977-01-01T00:00:00"
                  },
                  {
                    "Acceleration": 15.8,
                    "Cylinders": 4,
                    "Displacement": 140,
                    "Horsepower": 89,
                    "Miles_per_Gallon": 25.5,
                    "Name": "ford mustang ii 2+2",
                    "Origin": "USA",
                    "Weight_in_lbs": 2755,
                    "Year": "1977-01-01T00:00:00"
                  },
                  {
                    "Acceleration": 17,
                    "Cylinders": 4,
                    "Displacement": 98,
                    "Horsepower": 63,
                    "Miles_per_Gallon": 30.5,
                    "Name": "chevrolet chevette",
                    "Origin": "USA",
                    "Weight_in_lbs": 2051,
                    "Year": "1977-01-01T00:00:00"
                  },
                  {
                    "Acceleration": 15.9,
                    "Cylinders": 4,
                    "Displacement": 98,
                    "Horsepower": 83,
                    "Miles_per_Gallon": 33.5,
                    "Name": "dodge colt m/m",
                    "Origin": "USA",
                    "Weight_in_lbs": 2075,
                    "Year": "1977-01-01T00:00:00"
                  },
                  {
                    "Acceleration": 16.4,
                    "Cylinders": 4,
                    "Displacement": 97,
                    "Horsepower": 67,
                    "Miles_per_Gallon": 30,
                    "Name": "subaru dl",
                    "Origin": "Japan",
                    "Weight_in_lbs": 1985,
                    "Year": "1977-01-01T00:00:00"
                  },
                  {
                    "Acceleration": 14.1,
                    "Cylinders": 4,
                    "Displacement": 97,
                    "Horsepower": 78,
                    "Miles_per_Gallon": 30.5,
                    "Name": "volkswagen dasher",
                    "Origin": "Europe",
                    "Weight_in_lbs": 2190,
                    "Year": "1977-01-01T00:00:00"
                  },
                  {
                    "Acceleration": 14.5,
                    "Cylinders": 6,
                    "Displacement": 146,
                    "Horsepower": 97,
                    "Miles_per_Gallon": 22,
                    "Name": "datsun 810",
                    "Origin": "Japan",
                    "Weight_in_lbs": 2815,
                    "Year": "1977-01-01T00:00:00"
                  },
                  {
                    "Acceleration": 12.8,
                    "Cylinders": 4,
                    "Displacement": 121,
                    "Horsepower": 110,
                    "Miles_per_Gallon": 21.5,
                    "Name": "bmw 320i",
                    "Origin": "Europe",
                    "Weight_in_lbs": 2600,
                    "Year": "1977-01-01T00:00:00"
                  },
                  {
                    "Acceleration": 13.5,
                    "Cylinders": 3,
                    "Displacement": 80,
                    "Horsepower": 110,
                    "Miles_per_Gallon": 21.5,
                    "Name": "mazda rx-4",
                    "Origin": "Japan",
                    "Weight_in_lbs": 2720,
                    "Year": "1977-01-01T00:00:00"
                  },
                  {
                    "Acceleration": 21.5,
                    "Cylinders": 4,
                    "Displacement": 90,
                    "Horsepower": 48,
                    "Miles_per_Gallon": 43.1,
                    "Name": "volkswagen rabbit custom diesel",
                    "Origin": "Europe",
                    "Weight_in_lbs": 1985,
                    "Year": "1978-01-01T00:00:00"
                  },
                  {
                    "Acceleration": 14.4,
                    "Cylinders": 4,
                    "Displacement": 98,
                    "Horsepower": 66,
                    "Miles_per_Gallon": 36.1,
                    "Name": "ford fiesta",
                    "Origin": "USA",
                    "Weight_in_lbs": 1800,
                    "Year": "1978-01-01T00:00:00"
                  },
                  {
                    "Acceleration": 19.4,
                    "Cylinders": 4,
                    "Displacement": 78,
                    "Horsepower": 52,
                    "Miles_per_Gallon": 32.8,
                    "Name": "mazda glc deluxe",
                    "Origin": "Japan",
                    "Weight_in_lbs": 1985,
                    "Year": "1978-01-01T00:00:00"
                  },
                  {
                    "Acceleration": 18.6,
                    "Cylinders": 4,
                    "Displacement": 85,
                    "Horsepower": 70,
                    "Miles_per_Gallon": 39.4,
                    "Name": "datsun b210 gx",
                    "Origin": "Japan",
                    "Weight_in_lbs": 2070,
                    "Year": "1978-01-01T00:00:00"
                  },
                  {
                    "Acceleration": 16.4,
                    "Cylinders": 4,
                    "Displacement": 91,
                    "Horsepower": 60,
                    "Miles_per_Gallon": 36.1,
                    "Name": "honda civic cvcc",
                    "Origin": "Japan",
                    "Weight_in_lbs": 1800,
                    "Year": "1978-01-01T00:00:00"
                  },
                  {
                    "Acceleration": 15.5,
                    "Cylinders": 8,
                    "Displacement": 260,
                    "Horsepower": 110,
                    "Miles_per_Gallon": 19.9,
                    "Name": "oldsmobile cutlass salon brougham",
                    "Origin": "USA",
                    "Weight_in_lbs": 3365,
                    "Year": "1978-01-01T00:00:00"
                  },
                  {
                    "Acceleration": 13.2,
                    "Cylinders": 8,
                    "Displacement": 318,
                    "Horsepower": 140,
                    "Miles_per_Gallon": 19.4,
                    "Name": "dodge diplomat",
                    "Origin": "USA",
                    "Weight_in_lbs": 3735,
                    "Year": "1978-01-01T00:00:00"
                  },
                  {
                    "Acceleration": 12.8,
                    "Cylinders": 8,
                    "Displacement": 302,
                    "Horsepower": 139,
                    "Miles_per_Gallon": 20.2,
                    "Name": "mercury monarch ghia",
                    "Origin": "USA",
                    "Weight_in_lbs": 3570,
                    "Year": "1978-01-01T00:00:00"
                  },
                  {
                    "Acceleration": 19.2,
                    "Cylinders": 6,
                    "Displacement": 231,
                    "Horsepower": 105,
                    "Miles_per_Gallon": 19.2,
                    "Name": "pontiac phoenix lj",
                    "Origin": "USA",
                    "Weight_in_lbs": 3535,
                    "Year": "1978-01-01T00:00:00"
                  },
                  {
                    "Acceleration": 18.2,
                    "Cylinders": 6,
                    "Displacement": 200,
                    "Horsepower": 95,
                    "Miles_per_Gallon": 20.5,
                    "Name": "chevrolet malibu",
                    "Origin": "USA",
                    "Weight_in_lbs": 3155,
                    "Year": "1978-01-01T00:00:00"
                  },
                  {
                    "Acceleration": 15.8,
                    "Cylinders": 6,
                    "Displacement": 200,
                    "Horsepower": 85,
                    "Miles_per_Gallon": 20.2,
                    "Name": "ford fairmont (auto)",
                    "Origin": "USA",
                    "Weight_in_lbs": 2965,
                    "Year": "1978-01-01T00:00:00"
                  },
                  {
                    "Acceleration": 15.4,
                    "Cylinders": 4,
                    "Displacement": 140,
                    "Horsepower": 88,
                    "Miles_per_Gallon": 25.1,
                    "Name": "ford fairmont (man)",
                    "Origin": "USA",
                    "Weight_in_lbs": 2720,
                    "Year": "1978-01-01T00:00:00"
                  },
                  {
                    "Acceleration": 17.2,
                    "Cylinders": 6,
                    "Displacement": 225,
                    "Horsepower": 100,
                    "Miles_per_Gallon": 20.5,
                    "Name": "plymouth volare",
                    "Origin": "USA",
                    "Weight_in_lbs": 3430,
                    "Year": "1978-01-01T00:00:00"
                  },
                  {
                    "Acceleration": 17.2,
                    "Cylinders": 6,
                    "Displacement": 232,
                    "Horsepower": 90,
                    "Miles_per_Gallon": 19.4,
                    "Name": "amc concord",
                    "Origin": "USA",
                    "Weight_in_lbs": 3210,
                    "Year": "1978-01-01T00:00:00"
                  },
                  {
                    "Acceleration": 15.8,
                    "Cylinders": 6,
                    "Displacement": 231,
                    "Horsepower": 105,
                    "Miles_per_Gallon": 20.6,
                    "Name": "buick century special",
                    "Origin": "USA",
                    "Weight_in_lbs": 3380,
                    "Year": "1978-01-01T00:00:00"
                  },
                  {
                    "Acceleration": 16.7,
                    "Cylinders": 6,
                    "Displacement": 200,
                    "Horsepower": 85,
                    "Miles_per_Gallon": 20.8,
                    "Name": "mercury zephyr",
                    "Origin": "USA",
                    "Weight_in_lbs": 3070,
                    "Year": "1978-01-01T00:00:00"
                  },
                  {
                    "Acceleration": 18.7,
                    "Cylinders": 6,
                    "Displacement": 225,
                    "Horsepower": 110,
                    "Miles_per_Gallon": 18.6,
                    "Name": "dodge aspen",
                    "Origin": "USA",
                    "Weight_in_lbs": 3620,
                    "Year": "1978-01-01T00:00:00"
                  },
                  {
                    "Acceleration": 15.1,
                    "Cylinders": 6,
                    "Displacement": 258,
                    "Horsepower": 120,
                    "Miles_per_Gallon": 18.1,
                    "Name": "amc concord d/l",
                    "Origin": "USA",
                    "Weight_in_lbs": 3410,
                    "Year": "1978-01-01T00:00:00"
                  },
                  {
                    "Acceleration": 13.2,
                    "Cylinders": 8,
                    "Displacement": 305,
                    "Horsepower": 145,
                    "Miles_per_Gallon": 19.2,
                    "Name": "chevrolet monte carlo landau",
                    "Origin": "USA",
                    "Weight_in_lbs": 3425,
                    "Year": "1978-01-01T00:00:00"
                  },
                  {
                    "Acceleration": 13.4,
                    "Cylinders": 6,
                    "Displacement": 231,
                    "Horsepower": 165,
                    "Miles_per_Gallon": 17.7,
                    "Name": "buick regal sport coupe (turbo)",
                    "Origin": "USA",
                    "Weight_in_lbs": 3445,
                    "Year": "1978-01-01T00:00:00"
                  },
                  {
                    "Acceleration": 11.2,
                    "Cylinders": 8,
                    "Displacement": 302,
                    "Horsepower": 139,
                    "Miles_per_Gallon": 18.1,
                    "Name": "ford futura",
                    "Origin": "USA",
                    "Weight_in_lbs": 3205,
                    "Year": "1978-01-01T00:00:00"
                  },
                  {
                    "Acceleration": 13.7,
                    "Cylinders": 8,
                    "Displacement": 318,
                    "Horsepower": 140,
                    "Miles_per_Gallon": 17.5,
                    "Name": "dodge magnum xe",
                    "Origin": "USA",
                    "Weight_in_lbs": 4080,
                    "Year": "1978-01-01T00:00:00"
                  },
                  {
                    "Acceleration": 16.5,
                    "Cylinders": 4,
                    "Displacement": 98,
                    "Horsepower": 68,
                    "Miles_per_Gallon": 30,
                    "Name": "chevrolet chevette",
                    "Origin": "USA",
                    "Weight_in_lbs": 2155,
                    "Year": "1978-01-01T00:00:00"
                  },
                  {
                    "Acceleration": 14.2,
                    "Cylinders": 4,
                    "Displacement": 134,
                    "Horsepower": 95,
                    "Miles_per_Gallon": 27.5,
                    "Name": "toyota corona",
                    "Origin": "Japan",
                    "Weight_in_lbs": 2560,
                    "Year": "1978-01-01T00:00:00"
                  },
                  {
                    "Acceleration": 14.7,
                    "Cylinders": 4,
                    "Displacement": 119,
                    "Horsepower": 97,
                    "Miles_per_Gallon": 27.2,
                    "Name": "datsun 510",
                    "Origin": "Japan",
                    "Weight_in_lbs": 2300,
                    "Year": "1978-01-01T00:00:00"
                  },
                  {
                    "Acceleration": 14.5,
                    "Cylinders": 4,
                    "Displacement": 105,
                    "Horsepower": 75,
                    "Miles_per_Gallon": 30.9,
                    "Name": "dodge omni",
                    "Origin": "USA",
                    "Weight_in_lbs": 2230,
                    "Year": "1978-01-01T00:00:00"
                  },
                  {
                    "Acceleration": 14.8,
                    "Cylinders": 4,
                    "Displacement": 134,
                    "Horsepower": 95,
                    "Miles_per_Gallon": 21.1,
                    "Name": "toyota celica gt liftback",
                    "Origin": "Japan",
                    "Weight_in_lbs": 2515,
                    "Year": "1978-01-01T00:00:00"
                  },
                  {
                    "Acceleration": 16.7,
                    "Cylinders": 4,
                    "Displacement": 156,
                    "Horsepower": 105,
                    "Miles_per_Gallon": 23.2,
                    "Name": "plymouth sapporo",
                    "Origin": "USA",
                    "Weight_in_lbs": 2745,
                    "Year": "1978-01-01T00:00:00"
                  },
                  {
                    "Acceleration": 17.6,
                    "Cylinders": 4,
                    "Displacement": 151,
                    "Horsepower": 85,
                    "Miles_per_Gallon": 23.8,
                    "Name": "oldsmobile starfire sx",
                    "Origin": "USA",
                    "Weight_in_lbs": 2855,
                    "Year": "1978-01-01T00:00:00"
                  },
                  {
                    "Acceleration": 14.9,
                    "Cylinders": 4,
                    "Displacement": 119,
                    "Horsepower": 97,
                    "Miles_per_Gallon": 23.9,
                    "Name": "datsun 200-sx",
                    "Origin": "Japan",
                    "Weight_in_lbs": 2405,
                    "Year": "1978-01-01T00:00:00"
                  },
                  {
                    "Acceleration": 15.9,
                    "Cylinders": 5,
                    "Displacement": 131,
                    "Horsepower": 103,
                    "Miles_per_Gallon": 20.3,
                    "Name": "audi 5000",
                    "Origin": "Europe",
                    "Weight_in_lbs": 2830,
                    "Year": "1978-01-01T00:00:00"
                  },
                  {
                    "Acceleration": 13.6,
                    "Cylinders": 6,
                    "Displacement": 163,
                    "Horsepower": 125,
                    "Miles_per_Gallon": 17,
                    "Name": "volvo 264gl",
                    "Origin": "Europe",
                    "Weight_in_lbs": 3140,
                    "Year": "1978-01-01T00:00:00"
                  },
                  {
                    "Acceleration": 15.7,
                    "Cylinders": 4,
                    "Displacement": 121,
                    "Horsepower": 115,
                    "Miles_per_Gallon": 21.6,
                    "Name": "saab 99gle",
                    "Origin": "Europe",
                    "Weight_in_lbs": 2795,
                    "Year": "1978-01-01T00:00:00"
                  },
                  {
                    "Acceleration": 15.8,
                    "Cylinders": 6,
                    "Displacement": 163,
                    "Horsepower": 133,
                    "Miles_per_Gallon": 16.2,
                    "Name": "peugeot 604sl",
                    "Origin": "Europe",
                    "Weight_in_lbs": 3410,
                    "Year": "1978-01-01T00:00:00"
                  },
                  {
                    "Acceleration": 14.9,
                    "Cylinders": 4,
                    "Displacement": 89,
                    "Horsepower": 71,
                    "Miles_per_Gallon": 31.5,
                    "Name": "volkswagen scirocco",
                    "Origin": "Europe",
                    "Weight_in_lbs": 1990,
                    "Year": "1978-01-01T00:00:00"
                  },
                  {
                    "Acceleration": 16.6,
                    "Cylinders": 4,
                    "Displacement": 98,
                    "Horsepower": 68,
                    "Miles_per_Gallon": 29.5,
                    "Name": "honda Accelerationord lx",
                    "Origin": "Japan",
                    "Weight_in_lbs": 2135,
                    "Year": "1978-01-01T00:00:00"
                  },
                  {
                    "Acceleration": 15.4,
                    "Cylinders": 6,
                    "Displacement": 231,
                    "Horsepower": 115,
                    "Miles_per_Gallon": 21.5,
                    "Name": "pontiac lemans v6",
                    "Origin": "USA",
                    "Weight_in_lbs": 3245,
                    "Year": "1979-01-01T00:00:00"
                  },
                  {
                    "Acceleration": 18.2,
                    "Cylinders": 6,
                    "Displacement": 200,
                    "Horsepower": 85,
                    "Miles_per_Gallon": 19.8,
                    "Name": "mercury zephyr 6",
                    "Origin": "USA",
                    "Weight_in_lbs": 2990,
                    "Year": "1979-01-01T00:00:00"
                  },
                  {
                    "Acceleration": 17.3,
                    "Cylinders": 4,
                    "Displacement": 140,
                    "Horsepower": 88,
                    "Miles_per_Gallon": 22.3,
                    "Name": "ford fairmont 4",
                    "Origin": "USA",
                    "Weight_in_lbs": 2890,
                    "Year": "1979-01-01T00:00:00"
                  },
                  {
                    "Acceleration": 18.2,
                    "Cylinders": 6,
                    "Displacement": 232,
                    "Horsepower": 90,
                    "Miles_per_Gallon": 20.2,
                    "Name": "amc concord dl 6",
                    "Origin": "USA",
                    "Weight_in_lbs": 3265,
                    "Year": "1979-01-01T00:00:00"
                  },
                  {
                    "Acceleration": 16.6,
                    "Cylinders": 6,
                    "Displacement": 225,
                    "Horsepower": 110,
                    "Miles_per_Gallon": 20.6,
                    "Name": "dodge aspen 6",
                    "Origin": "USA",
                    "Weight_in_lbs": 3360,
                    "Year": "1979-01-01T00:00:00"
                  },
                  {
                    "Acceleration": 15.4,
                    "Cylinders": 8,
                    "Displacement": 305,
                    "Horsepower": 130,
                    "Miles_per_Gallon": 17,
                    "Name": "chevrolet caprice classic",
                    "Origin": "USA",
                    "Weight_in_lbs": 3840,
                    "Year": "1979-01-01T00:00:00"
                  },
                  {
                    "Acceleration": 13.4,
                    "Cylinders": 8,
                    "Displacement": 302,
                    "Horsepower": 129,
                    "Miles_per_Gallon": 17.6,
                    "Name": "ford ltd landau",
                    "Origin": "USA",
                    "Weight_in_lbs": 3725,
                    "Year": "1979-01-01T00:00:00"
                  },
                  {
                    "Acceleration": 13.2,
                    "Cylinders": 8,
                    "Displacement": 351,
                    "Horsepower": 138,
                    "Miles_per_Gallon": 16.5,
                    "Name": "mercury grand marquis",
                    "Origin": "USA",
                    "Weight_in_lbs": 3955,
                    "Year": "1979-01-01T00:00:00"
                  },
                  {
                    "Acceleration": 15.2,
                    "Cylinders": 8,
                    "Displacement": 318,
                    "Horsepower": 135,
                    "Miles_per_Gallon": 18.2,
                    "Name": "dodge st. regis",
                    "Origin": "USA",
                    "Weight_in_lbs": 3830,
                    "Year": "1979-01-01T00:00:00"
                  },
                  {
                    "Acceleration": 14.9,
                    "Cylinders": 8,
                    "Displacement": 350,
                    "Horsepower": 155,
                    "Miles_per_Gallon": 16.9,
                    "Name": "buick estate wagon (sw)",
                    "Origin": "USA",
                    "Weight_in_lbs": 4360,
                    "Year": "1979-01-01T00:00:00"
                  },
                  {
                    "Acceleration": 14.3,
                    "Cylinders": 8,
                    "Displacement": 351,
                    "Horsepower": 142,
                    "Miles_per_Gallon": 15.5,
                    "Name": "ford country squire (sw)",
                    "Origin": "USA",
                    "Weight_in_lbs": 4054,
                    "Year": "1979-01-01T00:00:00"
                  },
                  {
                    "Acceleration": 15,
                    "Cylinders": 8,
                    "Displacement": 267,
                    "Horsepower": 125,
                    "Miles_per_Gallon": 19.2,
                    "Name": "chevrolet malibu classic (sw)",
                    "Origin": "USA",
                    "Weight_in_lbs": 3605,
                    "Year": "1979-01-01T00:00:00"
                  },
                  {
                    "Acceleration": 13,
                    "Cylinders": 8,
                    "Displacement": 360,
                    "Horsepower": 150,
                    "Miles_per_Gallon": 18.5,
                    "Name": "chrysler lebaron town @ country (sw)",
                    "Origin": "USA",
                    "Weight_in_lbs": 3940,
                    "Year": "1979-01-01T00:00:00"
                  },
                  {
                    "Acceleration": 14,
                    "Cylinders": 4,
                    "Displacement": 89,
                    "Horsepower": 71,
                    "Miles_per_Gallon": 31.9,
                    "Name": "vw rabbit custom",
                    "Origin": "Europe",
                    "Weight_in_lbs": 1925,
                    "Year": "1979-01-01T00:00:00"
                  },
                  {
                    "Acceleration": 15.2,
                    "Cylinders": 4,
                    "Displacement": 86,
                    "Horsepower": 65,
                    "Miles_per_Gallon": 34.1,
                    "Name": "maxda glc deluxe",
                    "Origin": "Japan",
                    "Weight_in_lbs": 1975,
                    "Year": "1979-01-01T00:00:00"
                  },
                  {
                    "Acceleration": 14.4,
                    "Cylinders": 4,
                    "Displacement": 98,
                    "Horsepower": 80,
                    "Miles_per_Gallon": 35.7,
                    "Name": "dodge colt hatchback custom",
                    "Origin": "USA",
                    "Weight_in_lbs": 1915,
                    "Year": "1979-01-01T00:00:00"
                  },
                  {
                    "Acceleration": 15,
                    "Cylinders": 4,
                    "Displacement": 121,
                    "Horsepower": 80,
                    "Miles_per_Gallon": 27.4,
                    "Name": "amc spirit dl",
                    "Origin": "USA",
                    "Weight_in_lbs": 2670,
                    "Year": "1979-01-01T00:00:00"
                  },
                  {
                    "Acceleration": 20.1,
                    "Cylinders": 5,
                    "Displacement": 183,
                    "Horsepower": 77,
                    "Miles_per_Gallon": 25.4,
                    "Name": "mercedes benz 300d",
                    "Origin": "Europe",
                    "Weight_in_lbs": 3530,
                    "Year": "1979-01-01T00:00:00"
                  },
                  {
                    "Acceleration": 17.4,
                    "Cylinders": 8,
                    "Displacement": 350,
                    "Horsepower": 125,
                    "Miles_per_Gallon": 23,
                    "Name": "cadillac eldorado",
                    "Origin": "USA",
                    "Weight_in_lbs": 3900,
                    "Year": "1979-01-01T00:00:00"
                  },
                  {
                    "Acceleration": 24.8,
                    "Cylinders": 4,
                    "Displacement": 141,
                    "Horsepower": 71,
                    "Miles_per_Gallon": 27.2,
                    "Name": "peugeot 504",
                    "Origin": "Europe",
                    "Weight_in_lbs": 3190,
                    "Year": "1979-01-01T00:00:00"
                  },
                  {
                    "Acceleration": 22.2,
                    "Cylinders": 8,
                    "Displacement": 260,
                    "Horsepower": 90,
                    "Miles_per_Gallon": 23.9,
                    "Name": "oldsmobile cutlass salon brougham",
                    "Origin": "USA",
                    "Weight_in_lbs": 3420,
                    "Year": "1979-01-01T00:00:00"
                  },
                  {
                    "Acceleration": 13.2,
                    "Cylinders": 4,
                    "Displacement": 105,
                    "Horsepower": 70,
                    "Miles_per_Gallon": 34.2,
                    "Name": "plymouth horizon",
                    "Origin": "USA",
                    "Weight_in_lbs": 2200,
                    "Year": "1979-01-01T00:00:00"
                  },
                  {
                    "Acceleration": 14.9,
                    "Cylinders": 4,
                    "Displacement": 105,
                    "Horsepower": 70,
                    "Miles_per_Gallon": 34.5,
                    "Name": "plymouth horizon tc3",
                    "Origin": "USA",
                    "Weight_in_lbs": 2150,
                    "Year": "1979-01-01T00:00:00"
                  },
                  {
                    "Acceleration": 19.2,
                    "Cylinders": 4,
                    "Displacement": 85,
                    "Horsepower": 65,
                    "Miles_per_Gallon": 31.8,
                    "Name": "datsun 210",
                    "Origin": "Japan",
                    "Weight_in_lbs": 2020,
                    "Year": "1979-01-01T00:00:00"
                  },
                  {
                    "Acceleration": 14.7,
                    "Cylinders": 4,
                    "Displacement": 91,
                    "Horsepower": 69,
                    "Miles_per_Gallon": 37.3,
                    "Name": "fiat strada custom",
                    "Origin": "Europe",
                    "Weight_in_lbs": 2130,
                    "Year": "1979-01-01T00:00:00"
                  },
                  {
                    "Acceleration": 16,
                    "Cylinders": 4,
                    "Displacement": 151,
                    "Horsepower": 90,
                    "Miles_per_Gallon": 28.4,
                    "Name": "buick skylark limited",
                    "Origin": "USA",
                    "Weight_in_lbs": 2670,
                    "Year": "1979-01-01T00:00:00"
                  },
                  {
                    "Acceleration": 11.3,
                    "Cylinders": 6,
                    "Displacement": 173,
                    "Horsepower": 115,
                    "Miles_per_Gallon": 28.8,
                    "Name": "chevrolet citation",
                    "Origin": "USA",
                    "Weight_in_lbs": 2595,
                    "Year": "1979-01-01T00:00:00"
                  },
                  {
                    "Acceleration": 12.9,
                    "Cylinders": 6,
                    "Displacement": 173,
                    "Horsepower": 115,
                    "Miles_per_Gallon": 26.8,
                    "Name": "oldsmobile omega brougham",
                    "Origin": "USA",
                    "Weight_in_lbs": 2700,
                    "Year": "1979-01-01T00:00:00"
                  },
                  {
                    "Acceleration": 13.2,
                    "Cylinders": 4,
                    "Displacement": 151,
                    "Horsepower": 90,
                    "Miles_per_Gallon": 33.5,
                    "Name": "pontiac phoenix",
                    "Origin": "USA",
                    "Weight_in_lbs": 2556,
                    "Year": "1979-01-01T00:00:00"
                  },
                  {
                    "Acceleration": 14.7,
                    "Cylinders": 4,
                    "Displacement": 98,
                    "Horsepower": 76,
                    "Miles_per_Gallon": 41.5,
                    "Name": "vw rabbit",
                    "Origin": "Europe",
                    "Weight_in_lbs": 2144,
                    "Year": "1980-01-01T00:00:00"
                  },
                  {
                    "Acceleration": 18.8,
                    "Cylinders": 4,
                    "Displacement": 89,
                    "Horsepower": 60,
                    "Miles_per_Gallon": 38.1,
                    "Name": "toyota corolla tercel",
                    "Origin": "Japan",
                    "Weight_in_lbs": 1968,
                    "Year": "1980-01-01T00:00:00"
                  },
                  {
                    "Acceleration": 15.5,
                    "Cylinders": 4,
                    "Displacement": 98,
                    "Horsepower": 70,
                    "Miles_per_Gallon": 32.1,
                    "Name": "chevrolet chevette",
                    "Origin": "USA",
                    "Weight_in_lbs": 2120,
                    "Year": "1980-01-01T00:00:00"
                  },
                  {
                    "Acceleration": 16.4,
                    "Cylinders": 4,
                    "Displacement": 86,
                    "Horsepower": 65,
                    "Miles_per_Gallon": 37.2,
                    "Name": "datsun 310",
                    "Origin": "Japan",
                    "Weight_in_lbs": 2019,
                    "Year": "1980-01-01T00:00:00"
                  },
                  {
                    "Acceleration": 16.5,
                    "Cylinders": 4,
                    "Displacement": 151,
                    "Horsepower": 90,
                    "Miles_per_Gallon": 28,
                    "Name": "chevrolet citation",
                    "Origin": "USA",
                    "Weight_in_lbs": 2678,
                    "Year": "1980-01-01T00:00:00"
                  },
                  {
                    "Acceleration": 18.1,
                    "Cylinders": 4,
                    "Displacement": 140,
                    "Horsepower": 88,
                    "Miles_per_Gallon": 26.4,
                    "Name": "ford fairmont",
                    "Origin": "USA",
                    "Weight_in_lbs": 2870,
                    "Year": "1980-01-01T00:00:00"
                  },
                  {
                    "Acceleration": 20.1,
                    "Cylinders": 4,
                    "Displacement": 151,
                    "Horsepower": 90,
                    "Miles_per_Gallon": 24.3,
                    "Name": "amc concord",
                    "Origin": "USA",
                    "Weight_in_lbs": 3003,
                    "Year": "1980-01-01T00:00:00"
                  },
                  {
                    "Acceleration": 18.7,
                    "Cylinders": 6,
                    "Displacement": 225,
                    "Horsepower": 90,
                    "Miles_per_Gallon": 19.1,
                    "Name": "dodge aspen",
                    "Origin": "USA",
                    "Weight_in_lbs": 3381,
                    "Year": "1980-01-01T00:00:00"
                  },
                  {
                    "Acceleration": 15.8,
                    "Cylinders": 4,
                    "Displacement": 97,
                    "Horsepower": 78,
                    "Miles_per_Gallon": 34.3,
                    "Name": "audi 4000",
                    "Origin": "Europe",
                    "Weight_in_lbs": 2188,
                    "Year": "1980-01-01T00:00:00"
                  },
                  {
                    "Acceleration": 15.5,
                    "Cylinders": 4,
                    "Displacement": 134,
                    "Horsepower": 90,
                    "Miles_per_Gallon": 29.8,
                    "Name": "toyota corona liftback",
                    "Origin": "Japan",
                    "Weight_in_lbs": 2711,
                    "Year": "1980-01-01T00:00:00"
                  },
                  {
                    "Acceleration": 17.5,
                    "Cylinders": 4,
                    "Displacement": 120,
                    "Horsepower": 75,
                    "Miles_per_Gallon": 31.3,
                    "Name": "mazda 626",
                    "Origin": "Japan",
                    "Weight_in_lbs": 2542,
                    "Year": "1980-01-01T00:00:00"
                  },
                  {
                    "Acceleration": 15,
                    "Cylinders": 4,
                    "Displacement": 119,
                    "Horsepower": 92,
                    "Miles_per_Gallon": 37,
                    "Name": "datsun 510 hatchback",
                    "Origin": "Japan",
                    "Weight_in_lbs": 2434,
                    "Year": "1980-01-01T00:00:00"
                  },
                  {
                    "Acceleration": 15.2,
                    "Cylinders": 4,
                    "Displacement": 108,
                    "Horsepower": 75,
                    "Miles_per_Gallon": 32.2,
                    "Name": "toyota corolla",
                    "Origin": "Japan",
                    "Weight_in_lbs": 2265,
                    "Year": "1980-01-01T00:00:00"
                  },
                  {
                    "Acceleration": 17.9,
                    "Cylinders": 4,
                    "Displacement": 86,
                    "Horsepower": 65,
                    "Miles_per_Gallon": 46.6,
                    "Name": "mazda glc",
                    "Origin": "Japan",
                    "Weight_in_lbs": 2110,
                    "Year": "1980-01-01T00:00:00"
                  },
                  {
                    "Acceleration": 14.4,
                    "Cylinders": 4,
                    "Displacement": 156,
                    "Horsepower": 105,
                    "Miles_per_Gallon": 27.9,
                    "Name": "dodge colt",
                    "Origin": "USA",
                    "Weight_in_lbs": 2800,
                    "Year": "1980-01-01T00:00:00"
                  },
                  {
                    "Acceleration": 19.2,
                    "Cylinders": 4,
                    "Displacement": 85,
                    "Horsepower": 65,
                    "Miles_per_Gallon": 40.8,
                    "Name": "datsun 210",
                    "Origin": "Japan",
                    "Weight_in_lbs": 2110,
                    "Year": "1980-01-01T00:00:00"
                  },
                  {
                    "Acceleration": 21.7,
                    "Cylinders": 4,
                    "Displacement": 90,
                    "Horsepower": 48,
                    "Miles_per_Gallon": 44.3,
                    "Name": "vw rabbit c (diesel)",
                    "Origin": "Europe",
                    "Weight_in_lbs": 2085,
                    "Year": "1980-01-01T00:00:00"
                  },
                  {
                    "Acceleration": 23.7,
                    "Cylinders": 4,
                    "Displacement": 90,
                    "Horsepower": 48,
                    "Miles_per_Gallon": 43.4,
                    "Name": "vw dasher (diesel)",
                    "Origin": "Europe",
                    "Weight_in_lbs": 2335,
                    "Year": "1980-01-01T00:00:00"
                  },
                  {
                    "Acceleration": 19.9,
                    "Cylinders": 5,
                    "Displacement": 121,
                    "Horsepower": 67,
                    "Miles_per_Gallon": 36.4,
                    "Name": "audi 5000s (diesel)",
                    "Origin": "Europe",
                    "Weight_in_lbs": 2950,
                    "Year": "1980-01-01T00:00:00"
                  },
                  {
                    "Acceleration": 21.8,
                    "Cylinders": 4,
                    "Displacement": 146,
                    "Horsepower": 67,
                    "Miles_per_Gallon": 30,
                    "Name": "mercedes-benz 240d",
                    "Origin": "Europe",
                    "Weight_in_lbs": 3250,
                    "Year": "1980-01-01T00:00:00"
                  },
                  {
                    "Acceleration": 13.8,
                    "Cylinders": 4,
                    "Displacement": 91,
                    "Horsepower": 67,
                    "Miles_per_Gallon": 44.6,
                    "Name": "honda civic 1500 gl",
                    "Origin": "Japan",
                    "Weight_in_lbs": 1850,
                    "Year": "1980-01-01T00:00:00"
                  },
                  {
                    "Acceleration": 17.3,
                    "Cylinders": 4,
                    "Displacement": 85,
                    "Horsepower": null,
                    "Miles_per_Gallon": 40.9,
                    "Name": "renault lecar deluxe",
                    "Origin": "Europe",
                    "Weight_in_lbs": 1835,
                    "Year": "1980-01-01T00:00:00"
                  },
                  {
                    "Acceleration": 18,
                    "Cylinders": 4,
                    "Displacement": 97,
                    "Horsepower": 67,
                    "Miles_per_Gallon": 33.8,
                    "Name": "subaru dl",
                    "Origin": "Japan",
                    "Weight_in_lbs": 2145,
                    "Year": "1980-01-01T00:00:00"
                  },
                  {
                    "Acceleration": 15.3,
                    "Cylinders": 4,
                    "Displacement": 89,
                    "Horsepower": 62,
                    "Miles_per_Gallon": 29.8,
                    "Name": "vokswagen rabbit",
                    "Origin": "Europe",
                    "Weight_in_lbs": 1845,
                    "Year": "1980-01-01T00:00:00"
                  },
                  {
                    "Acceleration": 11.4,
                    "Cylinders": 6,
                    "Displacement": 168,
                    "Horsepower": 132,
                    "Miles_per_Gallon": 32.7,
                    "Name": "datsun 280-zx",
                    "Origin": "Japan",
                    "Weight_in_lbs": 2910,
                    "Year": "1980-01-01T00:00:00"
                  },
                  {
                    "Acceleration": 12.5,
                    "Cylinders": 3,
                    "Displacement": 70,
                    "Horsepower": 100,
                    "Miles_per_Gallon": 23.7,
                    "Name": "mazda rx-7 gs",
                    "Origin": "Japan",
                    "Weight_in_lbs": 2420,
                    "Year": "1980-01-01T00:00:00"
                  },
                  {
                    "Acceleration": 15.1,
                    "Cylinders": 4,
                    "Displacement": 122,
                    "Horsepower": 88,
                    "Miles_per_Gallon": 35,
                    "Name": "triumph tr7 coupe",
                    "Origin": "Europe",
                    "Weight_in_lbs": 2500,
                    "Year": "1980-01-01T00:00:00"
                  },
                  {
                    "Acceleration": 14.3,
                    "Cylinders": 4,
                    "Displacement": 140,
                    "Horsepower": null,
                    "Miles_per_Gallon": 23.6,
                    "Name": "ford mustang cobra",
                    "Origin": "USA",
                    "Weight_in_lbs": 2905,
                    "Year": "1980-01-01T00:00:00"
                  },
                  {
                    "Acceleration": 17,
                    "Cylinders": 4,
                    "Displacement": 107,
                    "Horsepower": 72,
                    "Miles_per_Gallon": 32.4,
                    "Name": "honda Accelerationord",
                    "Origin": "Japan",
                    "Weight_in_lbs": 2290,
                    "Year": "1980-01-01T00:00:00"
                  },
                  {
                    "Acceleration": 15.7,
                    "Cylinders": 4,
                    "Displacement": 135,
                    "Horsepower": 84,
                    "Miles_per_Gallon": 27.2,
                    "Name": "plymouth reliant",
                    "Origin": "USA",
                    "Weight_in_lbs": 2490,
                    "Year": "1982-01-01T00:00:00"
                  },
                  {
                    "Acceleration": 16.4,
                    "Cylinders": 4,
                    "Displacement": 151,
                    "Horsepower": 84,
                    "Miles_per_Gallon": 26.6,
                    "Name": "buick skylark",
                    "Origin": "USA",
                    "Weight_in_lbs": 2635,
                    "Year": "1982-01-01T00:00:00"
                  },
                  {
                    "Acceleration": 14.4,
                    "Cylinders": 4,
                    "Displacement": 156,
                    "Horsepower": 92,
                    "Miles_per_Gallon": 25.8,
                    "Name": "dodge aries wagon (sw)",
                    "Origin": "USA",
                    "Weight_in_lbs": 2620,
                    "Year": "1982-01-01T00:00:00"
                  },
                  {
                    "Acceleration": 12.6,
                    "Cylinders": 6,
                    "Displacement": 173,
                    "Horsepower": 110,
                    "Miles_per_Gallon": 23.5,
                    "Name": "chevrolet citation",
                    "Origin": "USA",
                    "Weight_in_lbs": 2725,
                    "Year": "1982-01-01T00:00:00"
                  },
                  {
                    "Acceleration": 12.9,
                    "Cylinders": 4,
                    "Displacement": 135,
                    "Horsepower": 84,
                    "Miles_per_Gallon": 30,
                    "Name": "plymouth reliant",
                    "Origin": "USA",
                    "Weight_in_lbs": 2385,
                    "Year": "1982-01-01T00:00:00"
                  },
                  {
                    "Acceleration": 16.9,
                    "Cylinders": 4,
                    "Displacement": 79,
                    "Horsepower": 58,
                    "Miles_per_Gallon": 39.1,
                    "Name": "toyota starlet",
                    "Origin": "Japan",
                    "Weight_in_lbs": 1755,
                    "Year": "1982-01-01T00:00:00"
                  },
                  {
                    "Acceleration": 16.4,
                    "Cylinders": 4,
                    "Displacement": 86,
                    "Horsepower": 64,
                    "Miles_per_Gallon": 39,
                    "Name": "plymouth champ",
                    "Origin": "USA",
                    "Weight_in_lbs": 1875,
                    "Year": "1982-01-01T00:00:00"
                  },
                  {
                    "Acceleration": 16.1,
                    "Cylinders": 4,
                    "Displacement": 81,
                    "Horsepower": 60,
                    "Miles_per_Gallon": 35.1,
                    "Name": "honda civic 1300",
                    "Origin": "Japan",
                    "Weight_in_lbs": 1760,
                    "Year": "1982-01-01T00:00:00"
                  },
                  {
                    "Acceleration": 17.8,
                    "Cylinders": 4,
                    "Displacement": 97,
                    "Horsepower": 67,
                    "Miles_per_Gallon": 32.3,
                    "Name": "subaru",
                    "Origin": "Japan",
                    "Weight_in_lbs": 2065,
                    "Year": "1982-01-01T00:00:00"
                  },
                  {
                    "Acceleration": 19.4,
                    "Cylinders": 4,
                    "Displacement": 85,
                    "Horsepower": 65,
                    "Miles_per_Gallon": 37,
                    "Name": "datsun 210",
                    "Origin": "Japan",
                    "Weight_in_lbs": 1975,
                    "Year": "1982-01-01T00:00:00"
                  },
                  {
                    "Acceleration": 17.3,
                    "Cylinders": 4,
                    "Displacement": 89,
                    "Horsepower": 62,
                    "Miles_per_Gallon": 37.7,
                    "Name": "toyota tercel",
                    "Origin": "Japan",
                    "Weight_in_lbs": 2050,
                    "Year": "1982-01-01T00:00:00"
                  },
                  {
                    "Acceleration": 16,
                    "Cylinders": 4,
                    "Displacement": 91,
                    "Horsepower": 68,
                    "Miles_per_Gallon": 34.1,
                    "Name": "mazda glc 4",
                    "Origin": "Japan",
                    "Weight_in_lbs": 1985,
                    "Year": "1982-01-01T00:00:00"
                  },
                  {
                    "Acceleration": 14.9,
                    "Cylinders": 4,
                    "Displacement": 105,
                    "Horsepower": 63,
                    "Miles_per_Gallon": 34.7,
                    "Name": "plymouth horizon 4",
                    "Origin": "USA",
                    "Weight_in_lbs": 2215,
                    "Year": "1982-01-01T00:00:00"
                  },
                  {
                    "Acceleration": 16.2,
                    "Cylinders": 4,
                    "Displacement": 98,
                    "Horsepower": 65,
                    "Miles_per_Gallon": 34.4,
                    "Name": "ford escort 4w",
                    "Origin": "USA",
                    "Weight_in_lbs": 2045,
                    "Year": "1982-01-01T00:00:00"
                  },
                  {
                    "Acceleration": 20.7,
                    "Cylinders": 4,
                    "Displacement": 98,
                    "Horsepower": 65,
                    "Miles_per_Gallon": 29.9,
                    "Name": "ford escort 2h",
                    "Origin": "USA",
                    "Weight_in_lbs": 2380,
                    "Year": "1982-01-01T00:00:00"
                  },
                  {
                    "Acceleration": 14.2,
                    "Cylinders": 4,
                    "Displacement": 105,
                    "Horsepower": 74,
                    "Miles_per_Gallon": 33,
                    "Name": "volkswagen jetta",
                    "Origin": "Europe",
                    "Weight_in_lbs": 2190,
                    "Year": "1982-01-01T00:00:00"
                  },
                  {
                    "Acceleration": 15.8,
                    "Cylinders": 4,
                    "Displacement": 100,
                    "Horsepower": null,
                    "Miles_per_Gallon": 34.5,
                    "Name": "renault 18i",
                    "Origin": "Europe",
                    "Weight_in_lbs": 2320,
                    "Year": "1982-01-01T00:00:00"
                  },
                  {
                    "Acceleration": 14.4,
                    "Cylinders": 4,
                    "Displacement": 107,
                    "Horsepower": 75,
                    "Miles_per_Gallon": 33.7,
                    "Name": "honda prelude",
                    "Origin": "Japan",
                    "Weight_in_lbs": 2210,
                    "Year": "1982-01-01T00:00:00"
                  },
                  {
                    "Acceleration": 16.8,
                    "Cylinders": 4,
                    "Displacement": 108,
                    "Horsepower": 75,
                    "Miles_per_Gallon": 32.4,
                    "Name": "toyota corolla",
                    "Origin": "Japan",
                    "Weight_in_lbs": 2350,
                    "Year": "1982-01-01T00:00:00"
                  },
                  {
                    "Acceleration": 14.8,
                    "Cylinders": 4,
                    "Displacement": 119,
                    "Horsepower": 100,
                    "Miles_per_Gallon": 32.9,
                    "Name": "datsun 200sx",
                    "Origin": "Japan",
                    "Weight_in_lbs": 2615,
                    "Year": "1982-01-01T00:00:00"
                  },
                  {
                    "Acceleration": 18.3,
                    "Cylinders": 4,
                    "Displacement": 120,
                    "Horsepower": 74,
                    "Miles_per_Gallon": 31.6,
                    "Name": "mazda 626",
                    "Origin": "Japan",
                    "Weight_in_lbs": 2635,
                    "Year": "1982-01-01T00:00:00"
                  },
                  {
                    "Acceleration": 20.4,
                    "Cylinders": 4,
                    "Displacement": 141,
                    "Horsepower": 80,
                    "Miles_per_Gallon": 28.1,
                    "Name": "peugeot 505s turbo diesel",
                    "Origin": "Europe",
                    "Weight_in_lbs": 3230,
                    "Year": "1982-01-01T00:00:00"
                  },
                  {
                    "Acceleration": 15.4,
                    "Cylinders": 4,
                    "Displacement": 121,
                    "Horsepower": 110,
                    "Miles_per_Gallon": null,
                    "Name": "saab 900s",
                    "Origin": "Europe",
                    "Weight_in_lbs": 2800,
                    "Year": "1982-01-01T00:00:00"
                  },
                  {
                    "Acceleration": 19.6,
                    "Cylinders": 6,
                    "Displacement": 145,
                    "Horsepower": 76,
                    "Miles_per_Gallon": 30.7,
                    "Name": "volvo diesel",
                    "Origin": "Europe",
                    "Weight_in_lbs": 3160,
                    "Year": "1982-01-01T00:00:00"
                  },
                  {
                    "Acceleration": 12.6,
                    "Cylinders": 6,
                    "Displacement": 168,
                    "Horsepower": 116,
                    "Miles_per_Gallon": 25.4,
                    "Name": "toyota cressida",
                    "Origin": "Japan",
                    "Weight_in_lbs": 2900,
                    "Year": "1982-01-01T00:00:00"
                  },
                  {
                    "Acceleration": 13.8,
                    "Cylinders": 6,
                    "Displacement": 146,
                    "Horsepower": 120,
                    "Miles_per_Gallon": 24.2,
                    "Name": "datsun 810 maxima",
                    "Origin": "Japan",
                    "Weight_in_lbs": 2930,
                    "Year": "1982-01-01T00:00:00"
                  },
                  {
                    "Acceleration": 15.8,
                    "Cylinders": 6,
                    "Displacement": 231,
                    "Horsepower": 110,
                    "Miles_per_Gallon": 22.4,
                    "Name": "buick century",
                    "Origin": "USA",
                    "Weight_in_lbs": 3415,
                    "Year": "1982-01-01T00:00:00"
                  },
                  {
                    "Acceleration": 19,
                    "Cylinders": 8,
                    "Displacement": 350,
                    "Horsepower": 105,
                    "Miles_per_Gallon": 26.6,
                    "Name": "oldsmobile cutlass ls",
                    "Origin": "USA",
                    "Weight_in_lbs": 3725,
                    "Year": "1982-01-01T00:00:00"
                  },
                  {
                    "Acceleration": 17.1,
                    "Cylinders": 6,
                    "Displacement": 200,
                    "Horsepower": 88,
                    "Miles_per_Gallon": 20.2,
                    "Name": "ford granada gl",
                    "Origin": "USA",
                    "Weight_in_lbs": 3060,
                    "Year": "1982-01-01T00:00:00"
                  },
                  {
                    "Acceleration": 16.6,
                    "Cylinders": 6,
                    "Displacement": 225,
                    "Horsepower": 85,
                    "Miles_per_Gallon": 17.6,
                    "Name": "chrysler lebaron salon",
                    "Origin": "USA",
                    "Weight_in_lbs": 3465,
                    "Year": "1982-01-01T00:00:00"
                  },
                  {
                    "Acceleration": 19.6,
                    "Cylinders": 4,
                    "Displacement": 112,
                    "Horsepower": 88,
                    "Miles_per_Gallon": 28,
                    "Name": "chevrolet cavalier",
                    "Origin": "USA",
                    "Weight_in_lbs": 2605,
                    "Year": "1982-01-01T00:00:00"
                  },
                  {
                    "Acceleration": 18.6,
                    "Cylinders": 4,
                    "Displacement": 112,
                    "Horsepower": 88,
                    "Miles_per_Gallon": 27,
                    "Name": "chevrolet cavalier wagon",
                    "Origin": "USA",
                    "Weight_in_lbs": 2640,
                    "Year": "1982-01-01T00:00:00"
                  },
                  {
                    "Acceleration": 18,
                    "Cylinders": 4,
                    "Displacement": 112,
                    "Horsepower": 88,
                    "Miles_per_Gallon": 34,
                    "Name": "chevrolet cavalier 2-door",
                    "Origin": "USA",
                    "Weight_in_lbs": 2395,
                    "Year": "1982-01-01T00:00:00"
                  },
                  {
                    "Acceleration": 16.2,
                    "Cylinders": 4,
                    "Displacement": 112,
                    "Horsepower": 85,
                    "Miles_per_Gallon": 31,
                    "Name": "pontiac j2000 se hatchback",
                    "Origin": "USA",
                    "Weight_in_lbs": 2575,
                    "Year": "1982-01-01T00:00:00"
                  },
                  {
                    "Acceleration": 16,
                    "Cylinders": 4,
                    "Displacement": 135,
                    "Horsepower": 84,
                    "Miles_per_Gallon": 29,
                    "Name": "dodge aries se",
                    "Origin": "USA",
                    "Weight_in_lbs": 2525,
                    "Year": "1982-01-01T00:00:00"
                  },
                  {
                    "Acceleration": 18,
                    "Cylinders": 4,
                    "Displacement": 151,
                    "Horsepower": 90,
                    "Miles_per_Gallon": 27,
                    "Name": "pontiac phoenix",
                    "Origin": "USA",
                    "Weight_in_lbs": 2735,
                    "Year": "1982-01-01T00:00:00"
                  },
                  {
                    "Acceleration": 16.4,
                    "Cylinders": 4,
                    "Displacement": 140,
                    "Horsepower": 92,
                    "Miles_per_Gallon": 24,
                    "Name": "ford fairmont futura",
                    "Origin": "USA",
                    "Weight_in_lbs": 2865,
                    "Year": "1982-01-01T00:00:00"
                  },
                  {
                    "Acceleration": 20.5,
                    "Cylinders": 4,
                    "Displacement": 151,
                    "Horsepower": null,
                    "Miles_per_Gallon": 23,
                    "Name": "amc concord dl",
                    "Origin": "USA",
                    "Weight_in_lbs": 3035,
                    "Year": "1982-01-01T00:00:00"
                  },
                  {
                    "Acceleration": 15.3,
                    "Cylinders": 4,
                    "Displacement": 105,
                    "Horsepower": 74,
                    "Miles_per_Gallon": 36,
                    "Name": "volkswagen rabbit l",
                    "Origin": "Europe",
                    "Weight_in_lbs": 1980,
                    "Year": "1982-01-01T00:00:00"
                  },
                  {
                    "Acceleration": 18.2,
                    "Cylinders": 4,
                    "Displacement": 91,
                    "Horsepower": 68,
                    "Miles_per_Gallon": 37,
                    "Name": "mazda glc custom l",
                    "Origin": "Japan",
                    "Weight_in_lbs": 2025,
                    "Year": "1982-01-01T00:00:00"
                  },
                  {
                    "Acceleration": 17.6,
                    "Cylinders": 4,
                    "Displacement": 91,
                    "Horsepower": 68,
                    "Miles_per_Gallon": 31,
                    "Name": "mazda glc custom",
                    "Origin": "Japan",
                    "Weight_in_lbs": 1970,
                    "Year": "1982-01-01T00:00:00"
                  },
                  {
                    "Acceleration": 14.7,
                    "Cylinders": 4,
                    "Displacement": 105,
                    "Horsepower": 63,
                    "Miles_per_Gallon": 38,
                    "Name": "plymouth horizon miser",
                    "Origin": "USA",
                    "Weight_in_lbs": 2125,
                    "Year": "1982-01-01T00:00:00"
                  },
                  {
                    "Acceleration": 17.3,
                    "Cylinders": 4,
                    "Displacement": 98,
                    "Horsepower": 70,
                    "Miles_per_Gallon": 36,
                    "Name": "mercury lynx l",
                    "Origin": "USA",
                    "Weight_in_lbs": 2125,
                    "Year": "1982-01-01T00:00:00"
                  },
                  {
                    "Acceleration": 14.5,
                    "Cylinders": 4,
                    "Displacement": 120,
                    "Horsepower": 88,
                    "Miles_per_Gallon": 36,
                    "Name": "nissan stanza xe",
                    "Origin": "Japan",
                    "Weight_in_lbs": 2160,
                    "Year": "1982-01-01T00:00:00"
                  },
                  {
                    "Acceleration": 14.5,
                    "Cylinders": 4,
                    "Displacement": 107,
                    "Horsepower": 75,
                    "Miles_per_Gallon": 36,
                    "Name": "honda Accelerationord",
                    "Origin": "Japan",
                    "Weight_in_lbs": 2205,
                    "Year": "1982-01-01T00:00:00"
                  },
                  {
                    "Acceleration": 16.9,
                    "Cylinders": 4,
                    "Displacement": 108,
                    "Horsepower": 70,
                    "Miles_per_Gallon": 34,
                    "Name": "toyota corolla",
                    "Origin": "Japan",
                    "Weight_in_lbs": 2245,
                    "Year": "1982-01-01T00:00:00"
                  },
                  {
                    "Acceleration": 15,
                    "Cylinders": 4,
                    "Displacement": 91,
                    "Horsepower": 67,
                    "Miles_per_Gallon": 38,
                    "Name": "honda civic",
                    "Origin": "Japan",
                    "Weight_in_lbs": 1965,
                    "Year": "1982-01-01T00:00:00"
                  },
                  {
                    "Acceleration": 15.7,
                    "Cylinders": 4,
                    "Displacement": 91,
                    "Horsepower": 67,
                    "Miles_per_Gallon": 32,
                    "Name": "honda civic (auto)",
                    "Origin": "Japan",
                    "Weight_in_lbs": 1965,
                    "Year": "1982-01-01T00:00:00"
                  },
                  {
                    "Acceleration": 16.2,
                    "Cylinders": 4,
                    "Displacement": 91,
                    "Horsepower": 67,
                    "Miles_per_Gallon": 38,
                    "Name": "datsun 310 gx",
                    "Origin": "Japan",
                    "Weight_in_lbs": 1995,
                    "Year": "1982-01-01T00:00:00"
                  },
                  {
                    "Acceleration": 16.4,
                    "Cylinders": 6,
                    "Displacement": 181,
                    "Horsepower": 110,
                    "Miles_per_Gallon": 25,
                    "Name": "buick century limited",
                    "Origin": "USA",
                    "Weight_in_lbs": 2945,
                    "Year": "1982-01-01T00:00:00"
                  },
                  {
                    "Acceleration": 17,
                    "Cylinders": 6,
                    "Displacement": 262,
                    "Horsepower": 85,
                    "Miles_per_Gallon": 38,
                    "Name": "oldsmobile cutlass ciera (diesel)",
                    "Origin": "USA",
                    "Weight_in_lbs": 3015,
                    "Year": "1982-01-01T00:00:00"
                  },
                  {
                    "Acceleration": 14.5,
                    "Cylinders": 4,
                    "Displacement": 156,
                    "Horsepower": 92,
                    "Miles_per_Gallon": 26,
                    "Name": "chrysler lebaron medallion",
                    "Origin": "USA",
                    "Weight_in_lbs": 2585,
                    "Year": "1982-01-01T00:00:00"
                  },
                  {
                    "Acceleration": 14.7,
                    "Cylinders": 6,
                    "Displacement": 232,
                    "Horsepower": 112,
                    "Miles_per_Gallon": 22,
                    "Name": "ford granada l",
                    "Origin": "USA",
                    "Weight_in_lbs": 2835,
                    "Year": "1982-01-01T00:00:00"
                  },
                  {
                    "Acceleration": 13.9,
                    "Cylinders": 4,
                    "Displacement": 144,
                    "Horsepower": 96,
                    "Miles_per_Gallon": 32,
                    "Name": "toyota celica gt",
                    "Origin": "Japan",
                    "Weight_in_lbs": 2665,
                    "Year": "1982-01-01T00:00:00"
                  },
                  {
                    "Acceleration": 13,
                    "Cylinders": 4,
                    "Displacement": 135,
                    "Horsepower": 84,
                    "Miles_per_Gallon": 36,
                    "Name": "dodge charger 2.2",
                    "Origin": "USA",
                    "Weight_in_lbs": 2370,
                    "Year": "1982-01-01T00:00:00"
                  },
                  {
                    "Acceleration": 17.3,
                    "Cylinders": 4,
                    "Displacement": 151,
                    "Horsepower": 90,
                    "Miles_per_Gallon": 27,
                    "Name": "chevrolet camaro",
                    "Origin": "USA",
                    "Weight_in_lbs": 2950,
                    "Year": "1982-01-01T00:00:00"
                  },
                  {
                    "Acceleration": 15.6,
                    "Cylinders": 4,
                    "Displacement": 140,
                    "Horsepower": 86,
                    "Miles_per_Gallon": 27,
                    "Name": "ford mustang gl",
                    "Origin": "USA",
                    "Weight_in_lbs": 2790,
                    "Year": "1982-01-01T00:00:00"
                  },
                  {
                    "Acceleration": 24.6,
                    "Cylinders": 4,
                    "Displacement": 97,
                    "Horsepower": 52,
                    "Miles_per_Gallon": 44,
                    "Name": "vw pickup",
                    "Origin": "Europe",
                    "Weight_in_lbs": 2130,
                    "Year": "1982-01-01T00:00:00"
                  },
                  {
                    "Acceleration": 11.6,
                    "Cylinders": 4,
                    "Displacement": 135,
                    "Horsepower": 84,
                    "Miles_per_Gallon": 32,
                    "Name": "dodge rampage",
                    "Origin": "USA",
                    "Weight_in_lbs": 2295,
                    "Year": "1982-01-01T00:00:00"
                  },
                  {
                    "Acceleration": 18.6,
                    "Cylinders": 4,
                    "Displacement": 120,
                    "Horsepower": 79,
                    "Miles_per_Gallon": 28,
                    "Name": "ford ranger",
                    "Origin": "USA",
                    "Weight_in_lbs": 2625,
                    "Year": "1982-01-01T00:00:00"
                  },
                  {
                    "Acceleration": 19.4,
                    "Cylinders": 4,
                    "Displacement": 119,
                    "Horsepower": 82,
                    "Miles_per_Gallon": 31,
                    "Name": "chevy s-10",
                    "Origin": "USA",
                    "Weight_in_lbs": 2720,
                    "Year": "1982-01-01T00:00:00"
                  }
                ]
              },
              "encoding": {
                "color": {
                  "field": "Origin",
                  "type": "nominal"
                },
                "x": {
                  "field": "Horsepower",
                  "type": "quantitative"
                },
                "y": {
                  "field": "Miles_per_Gallon",
                  "type": "quantitative"
                }
              },
              "mark": {
                "type": "point"
              },
              "params": [
                {
                  "bind": "scales",
                  "name": "param_1",
                  "select": {
                    "encodings": [
                      "x",
                      "y"
                    ],
                    "type": "interval"
                  }
                }
              ]
            },
            "text/plain": [
              "<VegaLite 5 object>\n",
              "\n",
              "If you see this message, it means the renderer has not been properly enabled\n",
              "for the frontend that you are using. For more information, see\n",
              "https://altair-viz.github.io/user_guide/display_frontends.html#troubleshooting\n"
            ]
          },
          "execution_count": 7,
          "metadata": {},
          "output_type": "execute_result"
        }
      ],
      "source": [
        "# import altair with an abbreviated alias\n",
        "import altair as alt\n",
        "alt.renderers.enable('mimetype')\n",
        "\n",
        "# load a sample dataset as a pandas DataFrame\n",
        "from vega_datasets import data\n",
        "cars = data.cars()\n",
        "\n",
        "# make the chart\n",
        "alt.Chart(cars).mark_point().encode(\n",
        "    x='Horsepower',\n",
        "    y='Miles_per_Gallon',\n",
        "    color='Origin',\n",
        ").interactive()"
      ]
    }
  ],
  "metadata": {
    "colab": {
      "authorship_tag": "ABX9TyNZ7IwRi6k1pXlDBNxVuRra",
      "include_colab_link": true,
      "provenance": []
    },
    "kernelspec": {
      "display_name": "Python 3",
      "name": "python3"
    },
    "language_info": {
      "codemirror_mode": {
        "name": "ipython",
        "version": 3
      },
      "file_extension": ".py",
      "mimetype": "text/x-python",
      "name": "python",
      "nbconvert_exporter": "python",
      "pygments_lexer": "ipython3",
      "version": "3.11.6"
    }
  },
  "nbformat": 4,
  "nbformat_minor": 0
}
